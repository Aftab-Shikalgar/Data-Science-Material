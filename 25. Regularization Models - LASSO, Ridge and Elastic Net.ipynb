{
 "cells": [
  {
   "cell_type": "markdown",
   "id": "5ba7d4e6-fae7-45c2-87ee-b7ee5b8d3a34",
   "metadata": {},
   "source": [
    "# What does regularization model do?"
   ]
  },
  {
   "cell_type": "markdown",
   "id": "e2347f21-c370-4b11-8f21-a6d3d5289903",
   "metadata": {},
   "source": [
    "<img src=\"images\\\\Regularization_Models_D1.png\" alt=\"image\" width=\"700px\">"
   ]
  },
  {
   "cell_type": "markdown",
   "id": "66fb2bbc-bd3b-4df5-9bfe-330c373f74f7",
   "metadata": {},
   "source": [
    "- Basically, __Regularization is used to reduce the overfitting problem__\n",
    "- We have already seen other things to do same task like PCA and feature selection methods\n",
    "- __Coming to the image__:\n",
    "  - As we can see, let's suppose the irregular line above is the __Best Fit Line__ for __overfitted__ model\n",
    "    - i.e. curve is passing though all datapoints with no error\n",
    "  - In this case __Training Accuracy__ will be __100%__, but when we try to predict for unknown datapoints(red dots below), __it fails__\n",
    "  - Meaning that, as the model is overfitted, every external datapoint will be far away which will lead to more __error in prediction__\n",
    "  - So to reduce this error in predictions by reducing overfitting of model we use __Regularization Models__\n",
    "  - These models try to shift the __Current Best Fit Line__ to a __New Best Fit Line(black line)__ so that it will have <br>\n",
    "      __less training errors as well as testing errors__"
   ]
  },
  {
   "cell_type": "markdown",
   "id": "109f8701-fbdb-4103-93d8-971c0ab863c0",
   "metadata": {},
   "source": [
    "<img src=\"images\\\\Regularization_Models_D2.png\" alt=\"image\" width=\"700px\" border=\"2px\">\n",
    "<img src=\"images\\\\Regularization_Models_D5.png\" alt=\"image\" width=\"700px\" border=\"2px\">"
   ]
  },
  {
   "cell_type": "markdown",
   "id": "eed56f81-f934-45a6-8509-b3ab26e5b705",
   "metadata": {},
   "source": [
    "<h3>Our main aim is always to build a model with Low Bias and Low Variance, but is is possible?</h3>"
   ]
  },
  {
   "cell_type": "markdown",
   "id": "2c83aa58-e73f-4a08-9805-ae4f15ff8caa",
   "metadata": {},
   "source": [
    "<h2 style=\"color:limegreen\">Bias Variance Trade Off -</h2>"
   ]
  },
  {
   "cell_type": "markdown",
   "id": "c2ddaca3-ca73-4606-9353-ae21bfb85c52",
   "metadata": {},
   "source": [
    "__What is bias?__\n",
    "\n",
    "- Bias is the difference between the average prediction of our model and the correct value which we are trying to predict\n",
    "- Model with high bias pays very little attention to the training data and __oversimplifies the model__\n",
    "- It always leads to high error on training and testing data\n",
    "\n",
    "__What is variance?__\n",
    "\n",
    "- Variance is the variability of the model prediction for a given data point or a value which tells us spread of our data\n",
    "- Model with high variance pays a lot of attention to training data and does not generalize on the data which it hasn't seen before\n",
    "- As a result, such models perform very well on training data but has high errors on testing data\n",
    "\n",
    "\n",
    "<h4>Trade of means one increases other decreases and vice versa</h4>\n",
    "\n",
    "- If we try to increase training accuracy, testing accuracy will decrease\n",
    "- Similarly if you try to increase testing accuracy, training accuracy decrease\n",
    "- This is known as __BIAS VARIANCE TRADE OFF__"
   ]
  },
  {
   "cell_type": "markdown",
   "id": "5e72eb2d-b065-4df3-8358-81d38968bd14",
   "metadata": {},
   "source": [
    "<h2 style=\"color:limegreen\">LASSO(L1) - </h2>\n",
    "\n",
    "<img src=\"images\\\\Regularization_Models_D3.png\" alt=\"image\" width=\"700px\" border=\"2px\">"
   ]
  },
  {
   "cell_type": "markdown",
   "id": "2beb9ec7-a205-4c21-8457-b7a2f610bc51",
   "metadata": {},
   "source": [
    "__What is Slope?__\n",
    "\n",
    "- We can see, some formulations above but in general Slope is nothing but __rise over run__\n",
    "- i.e. With change in X how much Y changes\n",
    "- We also know __linear regression equation: y = ß<sub>0</sub> + ß<sub>1</sub>X<sub>1</sub> + ß<sub>2</sub>X<sub>2</sub> + error__\n",
    "- In this equation every value ß correponds to slope associated to X\n",
    "\n",
    "__How LASSO works here -__\n",
    "\n",
    "- So whenever we try to find best fit line, we calculate __MSE__ i.e. Mean Squared Error\n",
    "- In LASSO model, the __Best fit line__ is shifted to __new best fit line__ by using __L1 = MSE + α * abs(slope)__\n",
    "- In short, it shifts the line by changing the slope\n",
    "- For multiple lines, __L1 = MSE + α * |M<sub>1</sub> + M<sub>2</sub> + M<sub>3</sub>+...+ M<sub>n</sub>|__, where M is slope\n",
    "\n",
    "__LASSO can also be used to get important features__\n",
    "\n",
    "- LASSO tries to make minimal slope of the lines to __0__ so that they won't have consideration and the columns can be vomitted from dataset\n",
    "- Like in img above, it tries to make ß0 = 0.001 to 0\n"
   ]
  },
  {
   "cell_type": "markdown",
   "id": "599c7ac7-b48a-47b1-88ee-1a15629de7b6",
   "metadata": {},
   "source": [
    "<h2 style=\"color:limegreen\">Ridge and Elastic Net - </h2>\n",
    "\n",
    "<img src=\"images\\\\Regularization_Models_D4.png\" alt=\"image\" width=\"700px\" border=\"2px\">\n"
   ]
  },
  {
   "cell_type": "markdown",
   "id": "cdb1a282-e4a8-42c8-bb9a-3da0fe69368d",
   "metadata": {},
   "source": [
    "__Ridge model -__\n",
    "\n",
    "- Ridge model is very much similar to LASSO\n",
    "- The only difference is that, __instead of absolute slope, it takes squares of them__\n",
    "- i.e. __L2 = MSE + α * (slope)^2__, and for multiple lines __L1 = MSE + α * (M<sub>1</sub> + M<sub>2</sub> + M<sub>3</sub>+...+ M<sub>n</sub>)^2__\n",
    "\n",
    "\n",
    "__Elastic Net -__\n",
    "\n",
    "- It is combination of both L1 and L2. __EN = L1 + L2__\n",
    "- __EN = MSE + α * abs(slope) + α * (slope)^2__"
   ]
  },
  {
   "cell_type": "markdown",
   "id": "e6517314-b6a9-4620-bda8-6961c2c96946",
   "metadata": {},
   "source": [
    "# PPT Part - "
   ]
  },
  {
   "cell_type": "markdown",
   "id": "71c54e0a-d95a-45d4-ac6a-f85622ced6ce",
   "metadata": {},
   "source": [
    "<h2 style=\"color:red\">Ridge Regression (or Tikhonov regularization) -</h2>"
   ]
  },
  {
   "cell_type": "markdown",
   "id": "79d223f6-f097-491e-aa69-43902a0e615e",
   "metadata": {},
   "source": [
    "- It is a technique for analyzing multiple __regression__ data that suffer from __multicollinaerity__\n",
    "- It adds __penalty equivalent__ to half of __squares of the magnitude__ of coefficients\n",
    "\n",
    "\n",
    "<img src=\"images\\\\Regularization_Models_D6.png\" alt=\"image\" width=\"300px\" style=\"margin-left:200px\">\n",
    "\n",
    "- If lambda is 0 then we will get back OLS. Whereas, if lambda is very large then a larger weight is added to loss function\n",
    "- This will also cause the model to under-fit\n",
    "- It reduces the model complexity by __coefficient shrinkage__, means it does not make coefficients as 0 __like L1__\n",
    "\n",
    "__Ridge Regression is a regularized version of Linear Regression__\n",
    "\n",
    "- A regularization term equal to <img src=\"images\\\\Regularization_Models_D7.png\" alt=\"image\" width=\"80px\"> is added to the __cost function__\n",
    "- This forces the learning algorithm to not only fit the data but also __keep the model weights as small as possible__\n",
    "- The __hyperparameter α__ controls how much you want to regularize the model\n",
    "- If __α = 0__, then Ridge Regression is just Linear Regression\n",
    "- If __α is very large__, then all weights end up very close to 0 and the result is a flat line going through the __data's mean__\n",
    "\n",
    "<img src=\"images\\\\Regularization_Models_D8.png\" alt=\"image\" width=\"250px\" style=\"margin-left:30%\">\n"
   ]
  },
  {
   "cell_type": "markdown",
   "id": "f4f2a964-7742-44b0-a917-e0742f9613c4",
   "metadata": {},
   "source": [
    "<div style=\"display:flex;flex-direction:row;justify-content:space-between\">\n",
    "    \n",
    "<img src=\"images\\\\Regularization_Models_D9.png\" alt=\"image\" width=\"50%\" border=\"2px\">\n",
    "<img src=\"images\\\\Regularization_Models_D10.png\" alt=\"image\" width=\"40%\" border=\"2px\">\n",
    "\n",
    "</div>"
   ]
  },
  {
   "cell_type": "markdown",
   "id": "e0a37963-7fb5-4a50-8d74-0fe57312f364",
   "metadata": {},
   "source": [
    "<h2 style=\"color:red\">Lasso Regression (Least Absolute Shrinkage and Selection Operator)-</h2>"
   ]
  },
  {
   "cell_type": "markdown",
   "id": "9389c551-a852-4a25-a5f0-6b3721ca3342",
   "metadata": {},
   "source": [
    "- It is another __regularized version of Linear Regression__\n",
    "- Just like Ridge Regression, it adds a regularization term to the __cost function__\n",
    "- But it uses the __l1 or ell(1) norm of the weight vector__ instead of half the square of the __l2 or ell(2)__ norm\n",
    "\n",
    "<img src=\"images\\\\Regularization_Models_D11.png\" alt=\"image\" width=\"250px\" style=\"margin-left:30%\">\n",
    "\n",
    "- It is a regression analysis method that performs __both variable selection and regularization__\n",
    "- Performs __L1__ regularization, adds panalty equivalent to __absolute value of the magnitude__ of coefficients\n",
    "\n",
    "<img src=\"images\\\\Regularization_Models_D12.png\" alt=\"image\" width=\"400px\" style=\"margin-left:20%\">\n",
    "\n",
    "- If __lamda is 0__ then we will get back to __OLS__.\n",
    "- Whereas, very large value will make coefficients __0__ hence it will __under-fit__\n",
    "- Useful when more number of variables are there - __feature selection__\n"
   ]
  },
  {
   "cell_type": "markdown",
   "id": "e965918a-d55d-4b5f-ae0a-cb453f812133",
   "metadata": {},
   "source": [
    "<div style=\"display:flex;flex-direction:row;justify-content:space-between\">\n",
    "    \n",
    "<img src=\"images\\\\Regularization_Models_D13.png\" alt=\"image\" width=\"50%\" border=\"2px\">\n",
    "<img src=\"images\\\\Regularization_Models_D14.png\" alt=\"image\" width=\"40%\" border=\"2px\">\n",
    "\n",
    "</div>"
   ]
  },
  {
   "cell_type": "markdown",
   "id": "0d8c7507-003c-43ba-82b6-431f5b3bb17b",
   "metadata": {},
   "source": [
    "<h2 style=\"color:red\">Elastic Net -</h2>"
   ]
  },
  {
   "cell_type": "markdown",
   "id": "b42af2f6-b0a0-4650-9d57-115eb0e3548d",
   "metadata": {},
   "source": [
    "<h3>Elastic Net is middlegroud between Ridge and Lasso Regression</h3>\n",
    "\n",
    "- The regularization term is __simple mix of Ridge and Lasso's regularization terms__ and you can __control the mix ratio r__\n",
    "- When __r = 0__, Elastic Net is equivalent to __Ridge Regression__\n",
    "- When __r = 1__, Elastic Net is equivalent to __Lasso Regression__\n",
    "\n",
    "<img src=\"images\\\\Regularization_Models_D15.png\" alt=\"image\" width=\"350px\" style=\"margin-left:30%\">\n"
   ]
  },
  {
   "cell_type": "markdown",
   "id": "b3d7cc0c-88c9-4246-9753-c9e4cdfdabee",
   "metadata": {},
   "source": [
    "<h2 style=\"color:red\">Which one to be used??</h3>"
   ]
  },
  {
   "cell_type": "markdown",
   "id": "79d16214-d7bc-467f-9e52-d4c7a67330f9",
   "metadata": {},
   "source": [
    "- When should ye can use plain Linear Regression, Ridge, Lasso or Elastic Net\n",
    "- It is almost preferable to have at least a little bit of regularization, so generally you should __avoid plain Linear Regression__\n",
    "- __Ridge is a good default__, but if we suspect that only a few features are useful, we should prefer __Lasso or Elastic Net__ because <br>\n",
    "    they tend to reduce the useless features' weights down to __0__, as we have discussed\n",
    "\n",
    "In genral, __Elasctic Net is preffered over Lasso__\n",
    "\n",
    "<img src=\"images\\\\Regularization_Models_D16.png\" alt=\"image\" width=\"600px\">\n"
   ]
  },
  {
   "cell_type": "markdown",
   "id": "1b987f75-615e-42b4-b672-1f5cd49714a8",
   "metadata": {},
   "source": [
    "<div style=\"border:1px solid black;padding:20px;background-color:beige\">\n",
    "\n",
    "<h1 style=\"color:red\">Summary</h1>\n",
    "\n",
    "\n",
    "<h4 style=\"line-height:1.3;color:slateblue\">Regularization is used to reduce the over dependence on any particular independent variable by adding the penalty \n",
    "    term to <br> the Loss function. This term prevents the coefficients of the independent variables to take extreme values</h4>\n",
    "\n",
    "____\n",
    "\n",
    "- __Ridge Regression adds L2 regularization penalty term to loss function__\n",
    "- This term reduces the coefficients but __does not make them 0__ and thus __doesn't eliminate any independent variable__ completely\n",
    "- It can be used to measure the impact of the different independent variables\n",
    "\n",
    "\n",
    "____\n",
    "\n",
    "- __Lasso Regression adds L2 regularization penalty term to loss function__\n",
    "- This term reduces the coefficients as well as __makes them 0__ thus effectively __eliminate the corresponding independent variables__ completely\n",
    "- It can be used for __feature selection__\n",
    "\n",
    "____\n",
    "\n",
    "- __Elastic Net is a combination of both of the above regularization.__\n",
    "- It contains both the __L1 and L2 as its penalty term__\n",
    "- It performs better than Ridge and Lasso Regression for most of the test cases\n",
    "\n",
    "</div>"
   ]
  },
  {
   "cell_type": "markdown",
   "id": "876174b4-96e6-4101-a544-4d5cdd83b928",
   "metadata": {},
   "source": [
    "# Example Code"
   ]
  },
  {
   "cell_type": "code",
   "execution_count": 75,
   "id": "f2784215-acd6-4c75-8d3a-09b0c8d3f897",
   "metadata": {},
   "outputs": [],
   "source": [
    "# In this code we will also be discusing about SimpleImputer and Ordinal Encoder"
   ]
  },
  {
   "cell_type": "code",
   "execution_count": 76,
   "id": "9fef6a78-7f5e-4536-9b06-5049545561a8",
   "metadata": {},
   "outputs": [],
   "source": [
    "import pandas as pd\n",
    "import numpy as np\n",
    "from sklearn.impute import SimpleImputer\n",
    "# fillna(): replaces na with mean mode or median from single column at a time.\n",
    "# SimpleImputer will replace na from multiple columns at a time\n",
    "\n",
    "import matplotlib.pyplot as plt\n",
    "from sklearn.preprocessing import OrdinalEncoder\n",
    "# We have seen OHE: for x variables, Lable Encoding: for y variable\n",
    "# OrdinalEncoder: works same as Lable Encoder but on x variables\n",
    "\n",
    "from sklearn.model_selection import train_test_split\n",
    "from sklearn.linear_model import LinearRegression, Lasso, Ridge, ElasticNet\n",
    "\n",
    "import warnings\n",
    "warnings.filterwarnings('ignore')"
   ]
  },
  {
   "cell_type": "code",
   "execution_count": 77,
   "id": "265986b9-0de4-41b7-9419-ec746f02a961",
   "metadata": {},
   "outputs": [
    {
     "data": {
      "text/html": [
       "<div>\n",
       "<style scoped>\n",
       "    .dataframe tbody tr th:only-of-type {\n",
       "        vertical-align: middle;\n",
       "    }\n",
       "\n",
       "    .dataframe tbody tr th {\n",
       "        vertical-align: top;\n",
       "    }\n",
       "\n",
       "    .dataframe thead th {\n",
       "        text-align: right;\n",
       "    }\n",
       "</style>\n",
       "<table border=\"1\" class=\"dataframe\">\n",
       "  <thead>\n",
       "    <tr style=\"text-align: right;\">\n",
       "      <th></th>\n",
       "      <th>symboling</th>\n",
       "      <th>normalized-losses</th>\n",
       "      <th>make</th>\n",
       "      <th>fuel-type</th>\n",
       "      <th>body-style</th>\n",
       "      <th>drive-wheels</th>\n",
       "      <th>engine-location</th>\n",
       "      <th>width</th>\n",
       "      <th>height</th>\n",
       "      <th>engine-type</th>\n",
       "      <th>engine-size</th>\n",
       "      <th>horsepower</th>\n",
       "      <th>city-mpg</th>\n",
       "      <th>highway-mpg</th>\n",
       "      <th>price</th>\n",
       "    </tr>\n",
       "  </thead>\n",
       "  <tbody>\n",
       "    <tr>\n",
       "      <th>0</th>\n",
       "      <td>3</td>\n",
       "      <td>?</td>\n",
       "      <td>alfa-romero</td>\n",
       "      <td>gas</td>\n",
       "      <td>convertible</td>\n",
       "      <td>rwd</td>\n",
       "      <td>front</td>\n",
       "      <td>64.1</td>\n",
       "      <td>48.8</td>\n",
       "      <td>dohc</td>\n",
       "      <td>130</td>\n",
       "      <td>111</td>\n",
       "      <td>21</td>\n",
       "      <td>27</td>\n",
       "      <td>13495</td>\n",
       "    </tr>\n",
       "    <tr>\n",
       "      <th>1</th>\n",
       "      <td>3</td>\n",
       "      <td>?</td>\n",
       "      <td>alfa-romero</td>\n",
       "      <td>gas</td>\n",
       "      <td>convertible</td>\n",
       "      <td>rwd</td>\n",
       "      <td>front</td>\n",
       "      <td>64.1</td>\n",
       "      <td>48.8</td>\n",
       "      <td>dohc</td>\n",
       "      <td>130</td>\n",
       "      <td>111</td>\n",
       "      <td>21</td>\n",
       "      <td>27</td>\n",
       "      <td>16500</td>\n",
       "    </tr>\n",
       "    <tr>\n",
       "      <th>2</th>\n",
       "      <td>1</td>\n",
       "      <td>?</td>\n",
       "      <td>alfa-romero</td>\n",
       "      <td>gas</td>\n",
       "      <td>hatchback</td>\n",
       "      <td>rwd</td>\n",
       "      <td>front</td>\n",
       "      <td>65.5</td>\n",
       "      <td>52.4</td>\n",
       "      <td>ohcv</td>\n",
       "      <td>152</td>\n",
       "      <td>154</td>\n",
       "      <td>19</td>\n",
       "      <td>26</td>\n",
       "      <td>16500</td>\n",
       "    </tr>\n",
       "    <tr>\n",
       "      <th>3</th>\n",
       "      <td>2</td>\n",
       "      <td>164</td>\n",
       "      <td>audi</td>\n",
       "      <td>gas</td>\n",
       "      <td>sedan</td>\n",
       "      <td>fwd</td>\n",
       "      <td>front</td>\n",
       "      <td>66.2</td>\n",
       "      <td>54.3</td>\n",
       "      <td>ohc</td>\n",
       "      <td>109</td>\n",
       "      <td>102</td>\n",
       "      <td>24</td>\n",
       "      <td>30</td>\n",
       "      <td>13950</td>\n",
       "    </tr>\n",
       "    <tr>\n",
       "      <th>4</th>\n",
       "      <td>2</td>\n",
       "      <td>164</td>\n",
       "      <td>audi</td>\n",
       "      <td>gas</td>\n",
       "      <td>sedan</td>\n",
       "      <td>4wd</td>\n",
       "      <td>front</td>\n",
       "      <td>66.4</td>\n",
       "      <td>54.3</td>\n",
       "      <td>ohc</td>\n",
       "      <td>136</td>\n",
       "      <td>115</td>\n",
       "      <td>18</td>\n",
       "      <td>22</td>\n",
       "      <td>17450</td>\n",
       "    </tr>\n",
       "    <tr>\n",
       "      <th>...</th>\n",
       "      <td>...</td>\n",
       "      <td>...</td>\n",
       "      <td>...</td>\n",
       "      <td>...</td>\n",
       "      <td>...</td>\n",
       "      <td>...</td>\n",
       "      <td>...</td>\n",
       "      <td>...</td>\n",
       "      <td>...</td>\n",
       "      <td>...</td>\n",
       "      <td>...</td>\n",
       "      <td>...</td>\n",
       "      <td>...</td>\n",
       "      <td>...</td>\n",
       "      <td>...</td>\n",
       "    </tr>\n",
       "    <tr>\n",
       "      <th>200</th>\n",
       "      <td>-1</td>\n",
       "      <td>95</td>\n",
       "      <td>volvo</td>\n",
       "      <td>gas</td>\n",
       "      <td>sedan</td>\n",
       "      <td>rwd</td>\n",
       "      <td>front</td>\n",
       "      <td>68.9</td>\n",
       "      <td>55.5</td>\n",
       "      <td>ohc</td>\n",
       "      <td>141</td>\n",
       "      <td>114</td>\n",
       "      <td>23</td>\n",
       "      <td>28</td>\n",
       "      <td>16845</td>\n",
       "    </tr>\n",
       "    <tr>\n",
       "      <th>201</th>\n",
       "      <td>-1</td>\n",
       "      <td>95</td>\n",
       "      <td>volvo</td>\n",
       "      <td>gas</td>\n",
       "      <td>sedan</td>\n",
       "      <td>rwd</td>\n",
       "      <td>front</td>\n",
       "      <td>68.8</td>\n",
       "      <td>55.5</td>\n",
       "      <td>ohc</td>\n",
       "      <td>141</td>\n",
       "      <td>160</td>\n",
       "      <td>19</td>\n",
       "      <td>25</td>\n",
       "      <td>19045</td>\n",
       "    </tr>\n",
       "    <tr>\n",
       "      <th>202</th>\n",
       "      <td>-1</td>\n",
       "      <td>95</td>\n",
       "      <td>volvo</td>\n",
       "      <td>gas</td>\n",
       "      <td>sedan</td>\n",
       "      <td>rwd</td>\n",
       "      <td>front</td>\n",
       "      <td>68.9</td>\n",
       "      <td>55.5</td>\n",
       "      <td>ohcv</td>\n",
       "      <td>173</td>\n",
       "      <td>134</td>\n",
       "      <td>18</td>\n",
       "      <td>23</td>\n",
       "      <td>21485</td>\n",
       "    </tr>\n",
       "    <tr>\n",
       "      <th>203</th>\n",
       "      <td>-1</td>\n",
       "      <td>95</td>\n",
       "      <td>volvo</td>\n",
       "      <td>diesel</td>\n",
       "      <td>sedan</td>\n",
       "      <td>rwd</td>\n",
       "      <td>front</td>\n",
       "      <td>68.9</td>\n",
       "      <td>55.5</td>\n",
       "      <td>ohc</td>\n",
       "      <td>145</td>\n",
       "      <td>106</td>\n",
       "      <td>26</td>\n",
       "      <td>27</td>\n",
       "      <td>22470</td>\n",
       "    </tr>\n",
       "    <tr>\n",
       "      <th>204</th>\n",
       "      <td>-1</td>\n",
       "      <td>95</td>\n",
       "      <td>volvo</td>\n",
       "      <td>gas</td>\n",
       "      <td>sedan</td>\n",
       "      <td>rwd</td>\n",
       "      <td>front</td>\n",
       "      <td>68.9</td>\n",
       "      <td>55.5</td>\n",
       "      <td>ohc</td>\n",
       "      <td>141</td>\n",
       "      <td>114</td>\n",
       "      <td>19</td>\n",
       "      <td>25</td>\n",
       "      <td>22625</td>\n",
       "    </tr>\n",
       "  </tbody>\n",
       "</table>\n",
       "<p>205 rows × 15 columns</p>\n",
       "</div>"
      ],
      "text/plain": [
       "     symboling normalized-losses         make fuel-type   body-style  \\\n",
       "0            3                 ?  alfa-romero       gas  convertible   \n",
       "1            3                 ?  alfa-romero       gas  convertible   \n",
       "2            1                 ?  alfa-romero       gas    hatchback   \n",
       "3            2               164         audi       gas        sedan   \n",
       "4            2               164         audi       gas        sedan   \n",
       "..         ...               ...          ...       ...          ...   \n",
       "200         -1                95        volvo       gas        sedan   \n",
       "201         -1                95        volvo       gas        sedan   \n",
       "202         -1                95        volvo       gas        sedan   \n",
       "203         -1                95        volvo    diesel        sedan   \n",
       "204         -1                95        volvo       gas        sedan   \n",
       "\n",
       "    drive-wheels engine-location  width  height engine-type  engine-size  \\\n",
       "0            rwd           front   64.1    48.8        dohc          130   \n",
       "1            rwd           front   64.1    48.8        dohc          130   \n",
       "2            rwd           front   65.5    52.4        ohcv          152   \n",
       "3            fwd           front   66.2    54.3         ohc          109   \n",
       "4            4wd           front   66.4    54.3         ohc          136   \n",
       "..           ...             ...    ...     ...         ...          ...   \n",
       "200          rwd           front   68.9    55.5         ohc          141   \n",
       "201          rwd           front   68.8    55.5         ohc          141   \n",
       "202          rwd           front   68.9    55.5        ohcv          173   \n",
       "203          rwd           front   68.9    55.5         ohc          145   \n",
       "204          rwd           front   68.9    55.5         ohc          141   \n",
       "\n",
       "    horsepower  city-mpg  highway-mpg  price  \n",
       "0          111        21           27  13495  \n",
       "1          111        21           27  16500  \n",
       "2          154        19           26  16500  \n",
       "3          102        24           30  13950  \n",
       "4          115        18           22  17450  \n",
       "..         ...       ...          ...    ...  \n",
       "200        114        23           28  16845  \n",
       "201        160        19           25  19045  \n",
       "202        134        18           23  21485  \n",
       "203        106        26           27  22470  \n",
       "204        114        19           25  22625  \n",
       "\n",
       "[205 rows x 15 columns]"
      ]
     },
     "execution_count": 77,
     "metadata": {},
     "output_type": "execute_result"
    }
   ],
   "source": [
    "df = pd.read_csv(\"Datasets\\\\cars_new.csv\")\n",
    "df"
   ]
  },
  {
   "cell_type": "code",
   "execution_count": 78,
   "id": "43e1a185-ce88-4c62-99e2-2f213c569105",
   "metadata": {},
   "outputs": [
    {
     "name": "stdout",
     "output_type": "stream",
     "text": [
      "<class 'pandas.core.frame.DataFrame'>\n",
      "RangeIndex: 205 entries, 0 to 204\n",
      "Data columns (total 15 columns):\n",
      " #   Column             Non-Null Count  Dtype  \n",
      "---  ------             --------------  -----  \n",
      " 0   symboling          205 non-null    int64  \n",
      " 1   normalized-losses  205 non-null    object \n",
      " 2   make               205 non-null    object \n",
      " 3   fuel-type          205 non-null    object \n",
      " 4   body-style         205 non-null    object \n",
      " 5   drive-wheels       205 non-null    object \n",
      " 6   engine-location    205 non-null    object \n",
      " 7   width              205 non-null    float64\n",
      " 8   height             205 non-null    float64\n",
      " 9   engine-type        205 non-null    object \n",
      " 10  engine-size        205 non-null    int64  \n",
      " 11  horsepower         205 non-null    object \n",
      " 12  city-mpg           205 non-null    int64  \n",
      " 13  highway-mpg        205 non-null    int64  \n",
      " 14  price              205 non-null    int64  \n",
      "dtypes: float64(2), int64(5), object(8)\n",
      "memory usage: 24.2+ KB\n"
     ]
    }
   ],
   "source": [
    "df.info()\n",
    "# ? is missing value because of it datatype has become object"
   ]
  },
  {
   "cell_type": "code",
   "execution_count": 79,
   "id": "b82127d2-f064-4799-a216-7279059736af",
   "metadata": {},
   "outputs": [
    {
     "data": {
      "text/plain": [
       "symboling            0\n",
       "normalized-losses    0\n",
       "make                 0\n",
       "fuel-type            0\n",
       "body-style           0\n",
       "drive-wheels         0\n",
       "engine-location      0\n",
       "width                0\n",
       "height               0\n",
       "engine-type          0\n",
       "engine-size          0\n",
       "horsepower           0\n",
       "city-mpg             0\n",
       "highway-mpg          0\n",
       "price                0\n",
       "dtype: int64"
      ]
     },
     "execution_count": 79,
     "metadata": {},
     "output_type": "execute_result"
    }
   ],
   "source": [
    "df.isna().sum() # not identified ? as missing value"
   ]
  },
  {
   "cell_type": "code",
   "execution_count": 80,
   "id": "53699f57-0f73-483f-a03a-9064c3d04d04",
   "metadata": {},
   "outputs": [
    {
     "data": {
      "text/plain": [
       "?      41\n",
       "161    11\n",
       "91      8\n",
       "150     7\n",
       "134     6\n",
       "128     6\n",
       "104     6\n",
       "85      5\n",
       "94      5\n",
       "65      5\n",
       "102     5\n",
       "74      5\n",
       "168     5\n",
       "103     5\n",
       "95      5\n",
       "106     4\n",
       "93      4\n",
       "118     4\n",
       "148     4\n",
       "122     4\n",
       "83      3\n",
       "125     3\n",
       "154     3\n",
       "115     3\n",
       "137     3\n",
       "101     3\n",
       "119     2\n",
       "87      2\n",
       "89      2\n",
       "192     2\n",
       "197     2\n",
       "158     2\n",
       "81      2\n",
       "188     2\n",
       "194     2\n",
       "153     2\n",
       "129     2\n",
       "108     2\n",
       "110     2\n",
       "164     2\n",
       "145     2\n",
       "113     2\n",
       "256     1\n",
       "107     1\n",
       "90      1\n",
       "231     1\n",
       "142     1\n",
       "121     1\n",
       "78      1\n",
       "98      1\n",
       "186     1\n",
       "77      1\n",
       "Name: normalized-losses, dtype: int64"
      ]
     },
     "execution_count": 80,
     "metadata": {},
     "output_type": "execute_result"
    }
   ],
   "source": [
    "df['normalized-losses'].value_counts()"
   ]
  },
  {
   "cell_type": "code",
   "execution_count": 81,
   "id": "00468fef-b926-49e6-9ca6-0f2814c3052a",
   "metadata": {},
   "outputs": [
    {
     "data": {
      "text/html": [
       "<div>\n",
       "<style scoped>\n",
       "    .dataframe tbody tr th:only-of-type {\n",
       "        vertical-align: middle;\n",
       "    }\n",
       "\n",
       "    .dataframe tbody tr th {\n",
       "        vertical-align: top;\n",
       "    }\n",
       "\n",
       "    .dataframe thead th {\n",
       "        text-align: right;\n",
       "    }\n",
       "</style>\n",
       "<table border=\"1\" class=\"dataframe\">\n",
       "  <thead>\n",
       "    <tr style=\"text-align: right;\">\n",
       "      <th></th>\n",
       "      <th>symboling</th>\n",
       "      <th>normalized-losses</th>\n",
       "      <th>make</th>\n",
       "      <th>fuel-type</th>\n",
       "      <th>body-style</th>\n",
       "      <th>drive-wheels</th>\n",
       "      <th>engine-location</th>\n",
       "      <th>width</th>\n",
       "      <th>height</th>\n",
       "      <th>engine-type</th>\n",
       "      <th>engine-size</th>\n",
       "      <th>horsepower</th>\n",
       "      <th>city-mpg</th>\n",
       "      <th>highway-mpg</th>\n",
       "      <th>price</th>\n",
       "    </tr>\n",
       "  </thead>\n",
       "  <tbody>\n",
       "    <tr>\n",
       "      <th>130</th>\n",
       "      <td>0</td>\n",
       "      <td>?</td>\n",
       "      <td>renault</td>\n",
       "      <td>gas</td>\n",
       "      <td>wagon</td>\n",
       "      <td>fwd</td>\n",
       "      <td>front</td>\n",
       "      <td>66.5</td>\n",
       "      <td>55.2</td>\n",
       "      <td>ohc</td>\n",
       "      <td>132</td>\n",
       "      <td>?</td>\n",
       "      <td>23</td>\n",
       "      <td>31</td>\n",
       "      <td>9295</td>\n",
       "    </tr>\n",
       "    <tr>\n",
       "      <th>131</th>\n",
       "      <td>2</td>\n",
       "      <td>?</td>\n",
       "      <td>renault</td>\n",
       "      <td>gas</td>\n",
       "      <td>hatchback</td>\n",
       "      <td>fwd</td>\n",
       "      <td>front</td>\n",
       "      <td>66.6</td>\n",
       "      <td>50.5</td>\n",
       "      <td>ohc</td>\n",
       "      <td>132</td>\n",
       "      <td>?</td>\n",
       "      <td>23</td>\n",
       "      <td>31</td>\n",
       "      <td>9895</td>\n",
       "    </tr>\n",
       "  </tbody>\n",
       "</table>\n",
       "</div>"
      ],
      "text/plain": [
       "     symboling normalized-losses     make fuel-type body-style drive-wheels  \\\n",
       "130          0                 ?  renault       gas      wagon          fwd   \n",
       "131          2                 ?  renault       gas  hatchback          fwd   \n",
       "\n",
       "    engine-location  width  height engine-type  engine-size horsepower  \\\n",
       "130           front   66.5    55.2         ohc          132          ?   \n",
       "131           front   66.6    50.5         ohc          132          ?   \n",
       "\n",
       "     city-mpg  highway-mpg  price  \n",
       "130        23           31   9295  \n",
       "131        23           31   9895  "
      ]
     },
     "execution_count": 81,
     "metadata": {},
     "output_type": "execute_result"
    }
   ],
   "source": [
    "df[df['horsepower']=='?']"
   ]
  },
  {
   "cell_type": "code",
   "execution_count": 82,
   "id": "b5dbad24-1125-4d79-b8dd-057e7e337409",
   "metadata": {},
   "outputs": [],
   "source": [
    "df.replace('?',np.nan,inplace=True)"
   ]
  },
  {
   "cell_type": "code",
   "execution_count": 83,
   "id": "7cb2107f-d460-4966-9900-cf1d3ea356bc",
   "metadata": {},
   "outputs": [
    {
     "data": {
      "text/plain": [
       "symboling             0\n",
       "normalized-losses    41\n",
       "make                  0\n",
       "fuel-type             0\n",
       "body-style            0\n",
       "drive-wheels          0\n",
       "engine-location       0\n",
       "width                 0\n",
       "height                0\n",
       "engine-type           0\n",
       "engine-size           0\n",
       "horsepower            2\n",
       "city-mpg              0\n",
       "highway-mpg           0\n",
       "price                 0\n",
       "dtype: int64"
      ]
     },
     "execution_count": 83,
     "metadata": {},
     "output_type": "execute_result"
    }
   ],
   "source": [
    "df.isna().sum()   # Now nulls will be there"
   ]
  },
  {
   "cell_type": "code",
   "execution_count": 84,
   "id": "a1055cf2-4857-4285-85c0-dde97b0359f1",
   "metadata": {},
   "outputs": [
    {
     "data": {
      "text/plain": [
       "symboling              int64\n",
       "normalized-losses     object\n",
       "make                  object\n",
       "fuel-type             object\n",
       "body-style            object\n",
       "drive-wheels          object\n",
       "engine-location       object\n",
       "width                float64\n",
       "height               float64\n",
       "engine-type           object\n",
       "engine-size            int64\n",
       "horsepower            object\n",
       "city-mpg               int64\n",
       "highway-mpg            int64\n",
       "price                  int64\n",
       "dtype: object"
      ]
     },
     "execution_count": 84,
     "metadata": {},
     "output_type": "execute_result"
    }
   ],
   "source": [
    "df.dtypes     # We have converted to all floats, still dtypes will be as it was\n"
   ]
  },
  {
   "cell_type": "code",
   "execution_count": 85,
   "id": "b66db316-a720-4993-a4d8-77dcb62f625c",
   "metadata": {},
   "outputs": [],
   "source": [
    "# Before changung the dtypes(can do it after too), let's impute missing values with SimpleImputer"
   ]
  },
  {
   "cell_type": "code",
   "execution_count": 86,
   "id": "bd58706d-f1f9-4bd7-9a79-1c4c17c64329",
   "metadata": {},
   "outputs": [],
   "source": [
    "si = SimpleImputer(strategy='median')"
   ]
  },
  {
   "cell_type": "code",
   "execution_count": 87,
   "id": "f77c4812-d96e-47c2-bdd6-64a04525a821",
   "metadata": {},
   "outputs": [
    {
     "data": {
      "text/html": [
       "<div>\n",
       "<style scoped>\n",
       "    .dataframe tbody tr th:only-of-type {\n",
       "        vertical-align: middle;\n",
       "    }\n",
       "\n",
       "    .dataframe tbody tr th {\n",
       "        vertical-align: top;\n",
       "    }\n",
       "\n",
       "    .dataframe thead th {\n",
       "        text-align: right;\n",
       "    }\n",
       "</style>\n",
       "<table border=\"1\" class=\"dataframe\">\n",
       "  <thead>\n",
       "    <tr style=\"text-align: right;\">\n",
       "      <th></th>\n",
       "      <th>normalized-losses</th>\n",
       "      <th>horsepower</th>\n",
       "    </tr>\n",
       "  </thead>\n",
       "  <tbody>\n",
       "    <tr>\n",
       "      <th>0</th>\n",
       "      <td>NaN</td>\n",
       "      <td>111</td>\n",
       "    </tr>\n",
       "    <tr>\n",
       "      <th>1</th>\n",
       "      <td>NaN</td>\n",
       "      <td>111</td>\n",
       "    </tr>\n",
       "    <tr>\n",
       "      <th>2</th>\n",
       "      <td>NaN</td>\n",
       "      <td>154</td>\n",
       "    </tr>\n",
       "    <tr>\n",
       "      <th>3</th>\n",
       "      <td>164</td>\n",
       "      <td>102</td>\n",
       "    </tr>\n",
       "    <tr>\n",
       "      <th>4</th>\n",
       "      <td>164</td>\n",
       "      <td>115</td>\n",
       "    </tr>\n",
       "  </tbody>\n",
       "</table>\n",
       "</div>"
      ],
      "text/plain": [
       "  normalized-losses horsepower\n",
       "0               NaN        111\n",
       "1               NaN        111\n",
       "2               NaN        154\n",
       "3               164        102\n",
       "4               164        115"
      ]
     },
     "execution_count": 87,
     "metadata": {},
     "output_type": "execute_result"
    }
   ],
   "source": [
    "df.iloc[:,[1,11]].head()   # 2 columns containing null values"
   ]
  },
  {
   "cell_type": "code",
   "execution_count": 88,
   "id": "64acabe3-24f8-43f1-b10f-9ba9d8fa3759",
   "metadata": {},
   "outputs": [],
   "source": [
    "df.iloc[:,[1,11]] = si.fit_transform(df.iloc[:,[1,11]])\n",
    "# fit will calculate median of col 1 and 11, transform: replace missing value by median"
   ]
  },
  {
   "cell_type": "code",
   "execution_count": 89,
   "id": "d41c1f72-d84a-45fa-ae37-89a25da7875e",
   "metadata": {},
   "outputs": [
    {
     "data": {
      "text/plain": [
       "symboling            0\n",
       "normalized-losses    0\n",
       "make                 0\n",
       "fuel-type            0\n",
       "body-style           0\n",
       "drive-wheels         0\n",
       "engine-location      0\n",
       "width                0\n",
       "height               0\n",
       "engine-type          0\n",
       "engine-size          0\n",
       "horsepower           0\n",
       "city-mpg             0\n",
       "highway-mpg          0\n",
       "price                0\n",
       "dtype: int64"
      ]
     },
     "execution_count": 89,
     "metadata": {},
     "output_type": "execute_result"
    }
   ],
   "source": [
    "df.isna().sum()"
   ]
  },
  {
   "cell_type": "code",
   "execution_count": 41,
   "id": "aa04028e-cb0f-4562-92fc-eb71fd5fec28",
   "metadata": {},
   "outputs": [
    {
     "data": {
      "text/html": [
       "<div>\n",
       "<style scoped>\n",
       "    .dataframe tbody tr th:only-of-type {\n",
       "        vertical-align: middle;\n",
       "    }\n",
       "\n",
       "    .dataframe tbody tr th {\n",
       "        vertical-align: top;\n",
       "    }\n",
       "\n",
       "    .dataframe thead th {\n",
       "        text-align: right;\n",
       "    }\n",
       "</style>\n",
       "<table border=\"1\" class=\"dataframe\">\n",
       "  <thead>\n",
       "    <tr style=\"text-align: right;\">\n",
       "      <th></th>\n",
       "      <th>symboling</th>\n",
       "      <th>engine-size</th>\n",
       "      <th>city-mpg</th>\n",
       "      <th>highway-mpg</th>\n",
       "      <th>price</th>\n",
       "    </tr>\n",
       "  </thead>\n",
       "  <tbody>\n",
       "    <tr>\n",
       "      <th>0</th>\n",
       "      <td>3</td>\n",
       "      <td>130</td>\n",
       "      <td>21</td>\n",
       "      <td>27</td>\n",
       "      <td>13495</td>\n",
       "    </tr>\n",
       "    <tr>\n",
       "      <th>1</th>\n",
       "      <td>3</td>\n",
       "      <td>130</td>\n",
       "      <td>21</td>\n",
       "      <td>27</td>\n",
       "      <td>16500</td>\n",
       "    </tr>\n",
       "    <tr>\n",
       "      <th>2</th>\n",
       "      <td>1</td>\n",
       "      <td>152</td>\n",
       "      <td>19</td>\n",
       "      <td>26</td>\n",
       "      <td>16500</td>\n",
       "    </tr>\n",
       "    <tr>\n",
       "      <th>3</th>\n",
       "      <td>2</td>\n",
       "      <td>109</td>\n",
       "      <td>24</td>\n",
       "      <td>30</td>\n",
       "      <td>13950</td>\n",
       "    </tr>\n",
       "    <tr>\n",
       "      <th>4</th>\n",
       "      <td>2</td>\n",
       "      <td>136</td>\n",
       "      <td>18</td>\n",
       "      <td>22</td>\n",
       "      <td>17450</td>\n",
       "    </tr>\n",
       "  </tbody>\n",
       "</table>\n",
       "</div>"
      ],
      "text/plain": [
       "   symboling  engine-size  city-mpg  highway-mpg  price\n",
       "0          3          130        21           27  13495\n",
       "1          3          130        21           27  16500\n",
       "2          1          152        19           26  16500\n",
       "3          2          109        24           30  13950\n",
       "4          2          136        18           22  17450"
      ]
     },
     "execution_count": 41,
     "metadata": {},
     "output_type": "execute_result"
    }
   ],
   "source": [
    "df.select_dtypes(int).head() # will display only colums of int data type, try float"
   ]
  },
  {
   "cell_type": "code",
   "execution_count": 43,
   "id": "36213215-08a2-4e69-8184-4a19549f4b73",
   "metadata": {},
   "outputs": [
    {
     "data": {
      "text/html": [
       "<div>\n",
       "<style scoped>\n",
       "    .dataframe tbody tr th:only-of-type {\n",
       "        vertical-align: middle;\n",
       "    }\n",
       "\n",
       "    .dataframe tbody tr th {\n",
       "        vertical-align: top;\n",
       "    }\n",
       "\n",
       "    .dataframe thead th {\n",
       "        text-align: right;\n",
       "    }\n",
       "</style>\n",
       "<table border=\"1\" class=\"dataframe\">\n",
       "  <thead>\n",
       "    <tr style=\"text-align: right;\">\n",
       "      <th></th>\n",
       "      <th>symboling</th>\n",
       "      <th>normalized-losses</th>\n",
       "      <th>width</th>\n",
       "      <th>height</th>\n",
       "      <th>engine-size</th>\n",
       "      <th>horsepower</th>\n",
       "      <th>city-mpg</th>\n",
       "      <th>highway-mpg</th>\n",
       "      <th>price</th>\n",
       "    </tr>\n",
       "  </thead>\n",
       "  <tbody>\n",
       "    <tr>\n",
       "      <th>0</th>\n",
       "      <td>3</td>\n",
       "      <td>115.0</td>\n",
       "      <td>64.1</td>\n",
       "      <td>48.8</td>\n",
       "      <td>130</td>\n",
       "      <td>111.0</td>\n",
       "      <td>21</td>\n",
       "      <td>27</td>\n",
       "      <td>13495</td>\n",
       "    </tr>\n",
       "    <tr>\n",
       "      <th>1</th>\n",
       "      <td>3</td>\n",
       "      <td>115.0</td>\n",
       "      <td>64.1</td>\n",
       "      <td>48.8</td>\n",
       "      <td>130</td>\n",
       "      <td>111.0</td>\n",
       "      <td>21</td>\n",
       "      <td>27</td>\n",
       "      <td>16500</td>\n",
       "    </tr>\n",
       "    <tr>\n",
       "      <th>2</th>\n",
       "      <td>1</td>\n",
       "      <td>115.0</td>\n",
       "      <td>65.5</td>\n",
       "      <td>52.4</td>\n",
       "      <td>152</td>\n",
       "      <td>154.0</td>\n",
       "      <td>19</td>\n",
       "      <td>26</td>\n",
       "      <td>16500</td>\n",
       "    </tr>\n",
       "    <tr>\n",
       "      <th>3</th>\n",
       "      <td>2</td>\n",
       "      <td>164.0</td>\n",
       "      <td>66.2</td>\n",
       "      <td>54.3</td>\n",
       "      <td>109</td>\n",
       "      <td>102.0</td>\n",
       "      <td>24</td>\n",
       "      <td>30</td>\n",
       "      <td>13950</td>\n",
       "    </tr>\n",
       "    <tr>\n",
       "      <th>4</th>\n",
       "      <td>2</td>\n",
       "      <td>164.0</td>\n",
       "      <td>66.4</td>\n",
       "      <td>54.3</td>\n",
       "      <td>136</td>\n",
       "      <td>115.0</td>\n",
       "      <td>18</td>\n",
       "      <td>22</td>\n",
       "      <td>17450</td>\n",
       "    </tr>\n",
       "  </tbody>\n",
       "</table>\n",
       "</div>"
      ],
      "text/plain": [
       "   symboling  normalized-losses  width  height  engine-size  horsepower  \\\n",
       "0          3              115.0   64.1    48.8          130       111.0   \n",
       "1          3              115.0   64.1    48.8          130       111.0   \n",
       "2          1              115.0   65.5    52.4          152       154.0   \n",
       "3          2              164.0   66.2    54.3          109       102.0   \n",
       "4          2              164.0   66.4    54.3          136       115.0   \n",
       "\n",
       "   city-mpg  highway-mpg  price  \n",
       "0        21           27  13495  \n",
       "1        21           27  16500  \n",
       "2        19           26  16500  \n",
       "3        24           30  13950  \n",
       "4        18           22  17450  "
      ]
     },
     "execution_count": 43,
     "metadata": {},
     "output_type": "execute_result"
    }
   ],
   "source": [
    "df.select_dtypes([int,float]).head() # all numerical columns"
   ]
  },
  {
   "cell_type": "code",
   "execution_count": 47,
   "id": "569ee842-5a09-4a53-b1fa-8194af43ad28",
   "metadata": {},
   "outputs": [
    {
     "data": {
      "text/html": [
       "<div>\n",
       "<style scoped>\n",
       "    .dataframe tbody tr th:only-of-type {\n",
       "        vertical-align: middle;\n",
       "    }\n",
       "\n",
       "    .dataframe tbody tr th {\n",
       "        vertical-align: top;\n",
       "    }\n",
       "\n",
       "    .dataframe thead th {\n",
       "        text-align: right;\n",
       "    }\n",
       "</style>\n",
       "<table border=\"1\" class=\"dataframe\">\n",
       "  <thead>\n",
       "    <tr style=\"text-align: right;\">\n",
       "      <th></th>\n",
       "      <th>make</th>\n",
       "      <th>fuel-type</th>\n",
       "      <th>body-style</th>\n",
       "      <th>drive-wheels</th>\n",
       "      <th>engine-location</th>\n",
       "      <th>engine-type</th>\n",
       "    </tr>\n",
       "  </thead>\n",
       "  <tbody>\n",
       "    <tr>\n",
       "      <th>0</th>\n",
       "      <td>alfa-romero</td>\n",
       "      <td>gas</td>\n",
       "      <td>convertible</td>\n",
       "      <td>rwd</td>\n",
       "      <td>front</td>\n",
       "      <td>dohc</td>\n",
       "    </tr>\n",
       "    <tr>\n",
       "      <th>1</th>\n",
       "      <td>alfa-romero</td>\n",
       "      <td>gas</td>\n",
       "      <td>convertible</td>\n",
       "      <td>rwd</td>\n",
       "      <td>front</td>\n",
       "      <td>dohc</td>\n",
       "    </tr>\n",
       "    <tr>\n",
       "      <th>2</th>\n",
       "      <td>alfa-romero</td>\n",
       "      <td>gas</td>\n",
       "      <td>hatchback</td>\n",
       "      <td>rwd</td>\n",
       "      <td>front</td>\n",
       "      <td>ohcv</td>\n",
       "    </tr>\n",
       "    <tr>\n",
       "      <th>3</th>\n",
       "      <td>audi</td>\n",
       "      <td>gas</td>\n",
       "      <td>sedan</td>\n",
       "      <td>fwd</td>\n",
       "      <td>front</td>\n",
       "      <td>ohc</td>\n",
       "    </tr>\n",
       "    <tr>\n",
       "      <th>4</th>\n",
       "      <td>audi</td>\n",
       "      <td>gas</td>\n",
       "      <td>sedan</td>\n",
       "      <td>4wd</td>\n",
       "      <td>front</td>\n",
       "      <td>ohc</td>\n",
       "    </tr>\n",
       "  </tbody>\n",
       "</table>\n",
       "</div>"
      ],
      "text/plain": [
       "          make fuel-type   body-style drive-wheels engine-location engine-type\n",
       "0  alfa-romero       gas  convertible          rwd           front        dohc\n",
       "1  alfa-romero       gas  convertible          rwd           front        dohc\n",
       "2  alfa-romero       gas    hatchback          rwd           front        ohcv\n",
       "3         audi       gas        sedan          fwd           front         ohc\n",
       "4         audi       gas        sedan          4wd           front         ohc"
      ]
     },
     "execution_count": 47,
     "metadata": {},
     "output_type": "execute_result"
    }
   ],
   "source": [
    "df.select_dtypes(object).head() # all numerical columns"
   ]
  },
  {
   "cell_type": "code",
   "execution_count": 49,
   "id": "a0f1b182-6651-455c-90c0-e5fa55afe174",
   "metadata": {},
   "outputs": [
    {
     "data": {
      "text/plain": [
       "symboling              int64\n",
       "normalized-losses    float64\n",
       "make                  object\n",
       "fuel-type             object\n",
       "body-style            object\n",
       "drive-wheels          object\n",
       "engine-location       object\n",
       "width                float64\n",
       "height               float64\n",
       "engine-type           object\n",
       "engine-size            int64\n",
       "horsepower           float64\n",
       "city-mpg               int64\n",
       "highway-mpg            int64\n",
       "price                  int64\n",
       "dtype: object"
      ]
     },
     "execution_count": 49,
     "metadata": {},
     "output_type": "execute_result"
    }
   ],
   "source": [
    "df.dtypes"
   ]
  },
  {
   "cell_type": "code",
   "execution_count": 107,
   "id": "61583142-a034-4bb9-9f86-1ea87f34e5fe",
   "metadata": {},
   "outputs": [],
   "source": [
    "# Somehow SimpleImputer changes the dtypes of bot col1 and col11"
   ]
  },
  {
   "cell_type": "code",
   "execution_count": 109,
   "id": "b6163ebe-91a9-496d-86fd-5dcbbc88097a",
   "metadata": {},
   "outputs": [
    {
     "data": {
      "text/html": [
       "<div>\n",
       "<style scoped>\n",
       "    .dataframe tbody tr th:only-of-type {\n",
       "        vertical-align: middle;\n",
       "    }\n",
       "\n",
       "    .dataframe tbody tr th {\n",
       "        vertical-align: top;\n",
       "    }\n",
       "\n",
       "    .dataframe thead th {\n",
       "        text-align: right;\n",
       "    }\n",
       "</style>\n",
       "<table border=\"1\" class=\"dataframe\">\n",
       "  <thead>\n",
       "    <tr style=\"text-align: right;\">\n",
       "      <th></th>\n",
       "      <th>make</th>\n",
       "      <th>fuel-type</th>\n",
       "      <th>body-style</th>\n",
       "      <th>drive-wheels</th>\n",
       "      <th>engine-location</th>\n",
       "      <th>engine-type</th>\n",
       "    </tr>\n",
       "  </thead>\n",
       "  <tbody>\n",
       "    <tr>\n",
       "      <th>0</th>\n",
       "      <td>alfa-romero</td>\n",
       "      <td>gas</td>\n",
       "      <td>convertible</td>\n",
       "      <td>rwd</td>\n",
       "      <td>front</td>\n",
       "      <td>dohc</td>\n",
       "    </tr>\n",
       "    <tr>\n",
       "      <th>1</th>\n",
       "      <td>alfa-romero</td>\n",
       "      <td>gas</td>\n",
       "      <td>convertible</td>\n",
       "      <td>rwd</td>\n",
       "      <td>front</td>\n",
       "      <td>dohc</td>\n",
       "    </tr>\n",
       "    <tr>\n",
       "      <th>2</th>\n",
       "      <td>alfa-romero</td>\n",
       "      <td>gas</td>\n",
       "      <td>hatchback</td>\n",
       "      <td>rwd</td>\n",
       "      <td>front</td>\n",
       "      <td>ohcv</td>\n",
       "    </tr>\n",
       "    <tr>\n",
       "      <th>3</th>\n",
       "      <td>audi</td>\n",
       "      <td>gas</td>\n",
       "      <td>sedan</td>\n",
       "      <td>fwd</td>\n",
       "      <td>front</td>\n",
       "      <td>ohc</td>\n",
       "    </tr>\n",
       "    <tr>\n",
       "      <th>4</th>\n",
       "      <td>audi</td>\n",
       "      <td>gas</td>\n",
       "      <td>sedan</td>\n",
       "      <td>4wd</td>\n",
       "      <td>front</td>\n",
       "      <td>ohc</td>\n",
       "    </tr>\n",
       "    <tr>\n",
       "      <th>...</th>\n",
       "      <td>...</td>\n",
       "      <td>...</td>\n",
       "      <td>...</td>\n",
       "      <td>...</td>\n",
       "      <td>...</td>\n",
       "      <td>...</td>\n",
       "    </tr>\n",
       "    <tr>\n",
       "      <th>200</th>\n",
       "      <td>volvo</td>\n",
       "      <td>gas</td>\n",
       "      <td>sedan</td>\n",
       "      <td>rwd</td>\n",
       "      <td>front</td>\n",
       "      <td>ohc</td>\n",
       "    </tr>\n",
       "    <tr>\n",
       "      <th>201</th>\n",
       "      <td>volvo</td>\n",
       "      <td>gas</td>\n",
       "      <td>sedan</td>\n",
       "      <td>rwd</td>\n",
       "      <td>front</td>\n",
       "      <td>ohc</td>\n",
       "    </tr>\n",
       "    <tr>\n",
       "      <th>202</th>\n",
       "      <td>volvo</td>\n",
       "      <td>gas</td>\n",
       "      <td>sedan</td>\n",
       "      <td>rwd</td>\n",
       "      <td>front</td>\n",
       "      <td>ohcv</td>\n",
       "    </tr>\n",
       "    <tr>\n",
       "      <th>203</th>\n",
       "      <td>volvo</td>\n",
       "      <td>diesel</td>\n",
       "      <td>sedan</td>\n",
       "      <td>rwd</td>\n",
       "      <td>front</td>\n",
       "      <td>ohc</td>\n",
       "    </tr>\n",
       "    <tr>\n",
       "      <th>204</th>\n",
       "      <td>volvo</td>\n",
       "      <td>gas</td>\n",
       "      <td>sedan</td>\n",
       "      <td>rwd</td>\n",
       "      <td>front</td>\n",
       "      <td>ohc</td>\n",
       "    </tr>\n",
       "  </tbody>\n",
       "</table>\n",
       "<p>205 rows × 6 columns</p>\n",
       "</div>"
      ],
      "text/plain": [
       "            make fuel-type   body-style drive-wheels engine-location  \\\n",
       "0    alfa-romero       gas  convertible          rwd           front   \n",
       "1    alfa-romero       gas  convertible          rwd           front   \n",
       "2    alfa-romero       gas    hatchback          rwd           front   \n",
       "3           audi       gas        sedan          fwd           front   \n",
       "4           audi       gas        sedan          4wd           front   \n",
       "..           ...       ...          ...          ...             ...   \n",
       "200        volvo       gas        sedan          rwd           front   \n",
       "201        volvo       gas        sedan          rwd           front   \n",
       "202        volvo       gas        sedan          rwd           front   \n",
       "203        volvo    diesel        sedan          rwd           front   \n",
       "204        volvo       gas        sedan          rwd           front   \n",
       "\n",
       "    engine-type  \n",
       "0          dohc  \n",
       "1          dohc  \n",
       "2          ohcv  \n",
       "3           ohc  \n",
       "4           ohc  \n",
       "..          ...  \n",
       "200         ohc  \n",
       "201         ohc  \n",
       "202        ohcv  \n",
       "203         ohc  \n",
       "204         ohc  \n",
       "\n",
       "[205 rows x 6 columns]"
      ]
     },
     "execution_count": 109,
     "metadata": {},
     "output_type": "execute_result"
    }
   ],
   "source": [
    "df.select_dtypes(object)"
   ]
  },
  {
   "cell_type": "code",
   "execution_count": 119,
   "id": "3975bb0f-a469-4f79-85e6-b69e6bb73915",
   "metadata": {},
   "outputs": [
    {
     "data": {
      "text/plain": [
       "Index(['make', 'fuel-type', 'body-style', 'drive-wheels', 'engine-location',\n",
       "       'engine-type'],\n",
       "      dtype='object')"
      ]
     },
     "execution_count": 119,
     "metadata": {},
     "output_type": "execute_result"
    }
   ],
   "source": [
    "# We have to encode this columns for model building \n",
    "\n",
    "# Let's get column names first\n",
    "\n",
    "cat_col = df.select_dtypes(object).columns\n",
    "cat_col"
   ]
  },
  {
   "cell_type": "code",
   "execution_count": 121,
   "id": "07b481a8-b1db-411f-b8b6-628d7f3ebd27",
   "metadata": {},
   "outputs": [
    {
     "data": {
      "text/html": [
       "<div>\n",
       "<style scoped>\n",
       "    .dataframe tbody tr th:only-of-type {\n",
       "        vertical-align: middle;\n",
       "    }\n",
       "\n",
       "    .dataframe tbody tr th {\n",
       "        vertical-align: top;\n",
       "    }\n",
       "\n",
       "    .dataframe thead th {\n",
       "        text-align: right;\n",
       "    }\n",
       "</style>\n",
       "<table border=\"1\" class=\"dataframe\">\n",
       "  <thead>\n",
       "    <tr style=\"text-align: right;\">\n",
       "      <th></th>\n",
       "      <th>make</th>\n",
       "      <th>fuel-type</th>\n",
       "      <th>body-style</th>\n",
       "      <th>drive-wheels</th>\n",
       "      <th>engine-location</th>\n",
       "      <th>engine-type</th>\n",
       "    </tr>\n",
       "  </thead>\n",
       "  <tbody>\n",
       "    <tr>\n",
       "      <th>0</th>\n",
       "      <td>alfa-romero</td>\n",
       "      <td>gas</td>\n",
       "      <td>convertible</td>\n",
       "      <td>rwd</td>\n",
       "      <td>front</td>\n",
       "      <td>dohc</td>\n",
       "    </tr>\n",
       "    <tr>\n",
       "      <th>1</th>\n",
       "      <td>alfa-romero</td>\n",
       "      <td>gas</td>\n",
       "      <td>convertible</td>\n",
       "      <td>rwd</td>\n",
       "      <td>front</td>\n",
       "      <td>dohc</td>\n",
       "    </tr>\n",
       "    <tr>\n",
       "      <th>2</th>\n",
       "      <td>alfa-romero</td>\n",
       "      <td>gas</td>\n",
       "      <td>hatchback</td>\n",
       "      <td>rwd</td>\n",
       "      <td>front</td>\n",
       "      <td>ohcv</td>\n",
       "    </tr>\n",
       "    <tr>\n",
       "      <th>3</th>\n",
       "      <td>audi</td>\n",
       "      <td>gas</td>\n",
       "      <td>sedan</td>\n",
       "      <td>fwd</td>\n",
       "      <td>front</td>\n",
       "      <td>ohc</td>\n",
       "    </tr>\n",
       "    <tr>\n",
       "      <th>4</th>\n",
       "      <td>audi</td>\n",
       "      <td>gas</td>\n",
       "      <td>sedan</td>\n",
       "      <td>4wd</td>\n",
       "      <td>front</td>\n",
       "      <td>ohc</td>\n",
       "    </tr>\n",
       "  </tbody>\n",
       "</table>\n",
       "</div>"
      ],
      "text/plain": [
       "          make fuel-type   body-style drive-wheels engine-location engine-type\n",
       "0  alfa-romero       gas  convertible          rwd           front        dohc\n",
       "1  alfa-romero       gas  convertible          rwd           front        dohc\n",
       "2  alfa-romero       gas    hatchback          rwd           front        ohcv\n",
       "3         audi       gas        sedan          fwd           front         ohc\n",
       "4         audi       gas        sedan          4wd           front         ohc"
      ]
     },
     "execution_count": 121,
     "metadata": {},
     "output_type": "execute_result"
    }
   ],
   "source": [
    "df[cat_col].head()"
   ]
  },
  {
   "cell_type": "code",
   "execution_count": 123,
   "id": "4aaef290-b308-4e4f-b112-15ec3747c196",
   "metadata": {},
   "outputs": [],
   "source": [
    "# Applying Ordinal Encoder for label encoding all above independent variables\n",
    "\n",
    "oe = OrdinalEncoder() # convert categorical values to numerical\n",
    "df[cat_col] = oe.fit_transform(df[cat_col])"
   ]
  },
  {
   "cell_type": "code",
   "execution_count": 125,
   "id": "7e5389ca-fdf0-4bb7-ada7-638ddf329a6f",
   "metadata": {},
   "outputs": [
    {
     "data": {
      "text/html": [
       "<div>\n",
       "<style scoped>\n",
       "    .dataframe tbody tr th:only-of-type {\n",
       "        vertical-align: middle;\n",
       "    }\n",
       "\n",
       "    .dataframe tbody tr th {\n",
       "        vertical-align: top;\n",
       "    }\n",
       "\n",
       "    .dataframe thead th {\n",
       "        text-align: right;\n",
       "    }\n",
       "</style>\n",
       "<table border=\"1\" class=\"dataframe\">\n",
       "  <thead>\n",
       "    <tr style=\"text-align: right;\">\n",
       "      <th></th>\n",
       "      <th>symboling</th>\n",
       "      <th>normalized-losses</th>\n",
       "      <th>make</th>\n",
       "      <th>fuel-type</th>\n",
       "      <th>body-style</th>\n",
       "      <th>drive-wheels</th>\n",
       "      <th>engine-location</th>\n",
       "      <th>width</th>\n",
       "      <th>height</th>\n",
       "      <th>engine-type</th>\n",
       "      <th>engine-size</th>\n",
       "      <th>horsepower</th>\n",
       "      <th>city-mpg</th>\n",
       "      <th>highway-mpg</th>\n",
       "      <th>price</th>\n",
       "    </tr>\n",
       "  </thead>\n",
       "  <tbody>\n",
       "    <tr>\n",
       "      <th>0</th>\n",
       "      <td>3</td>\n",
       "      <td>115.0</td>\n",
       "      <td>0.0</td>\n",
       "      <td>1.0</td>\n",
       "      <td>0.0</td>\n",
       "      <td>2.0</td>\n",
       "      <td>0.0</td>\n",
       "      <td>64.1</td>\n",
       "      <td>48.8</td>\n",
       "      <td>0.0</td>\n",
       "      <td>130</td>\n",
       "      <td>111.0</td>\n",
       "      <td>21</td>\n",
       "      <td>27</td>\n",
       "      <td>13495</td>\n",
       "    </tr>\n",
       "    <tr>\n",
       "      <th>1</th>\n",
       "      <td>3</td>\n",
       "      <td>115.0</td>\n",
       "      <td>0.0</td>\n",
       "      <td>1.0</td>\n",
       "      <td>0.0</td>\n",
       "      <td>2.0</td>\n",
       "      <td>0.0</td>\n",
       "      <td>64.1</td>\n",
       "      <td>48.8</td>\n",
       "      <td>0.0</td>\n",
       "      <td>130</td>\n",
       "      <td>111.0</td>\n",
       "      <td>21</td>\n",
       "      <td>27</td>\n",
       "      <td>16500</td>\n",
       "    </tr>\n",
       "    <tr>\n",
       "      <th>2</th>\n",
       "      <td>1</td>\n",
       "      <td>115.0</td>\n",
       "      <td>0.0</td>\n",
       "      <td>1.0</td>\n",
       "      <td>2.0</td>\n",
       "      <td>2.0</td>\n",
       "      <td>0.0</td>\n",
       "      <td>65.5</td>\n",
       "      <td>52.4</td>\n",
       "      <td>5.0</td>\n",
       "      <td>152</td>\n",
       "      <td>154.0</td>\n",
       "      <td>19</td>\n",
       "      <td>26</td>\n",
       "      <td>16500</td>\n",
       "    </tr>\n",
       "    <tr>\n",
       "      <th>3</th>\n",
       "      <td>2</td>\n",
       "      <td>164.0</td>\n",
       "      <td>1.0</td>\n",
       "      <td>1.0</td>\n",
       "      <td>3.0</td>\n",
       "      <td>1.0</td>\n",
       "      <td>0.0</td>\n",
       "      <td>66.2</td>\n",
       "      <td>54.3</td>\n",
       "      <td>3.0</td>\n",
       "      <td>109</td>\n",
       "      <td>102.0</td>\n",
       "      <td>24</td>\n",
       "      <td>30</td>\n",
       "      <td>13950</td>\n",
       "    </tr>\n",
       "    <tr>\n",
       "      <th>4</th>\n",
       "      <td>2</td>\n",
       "      <td>164.0</td>\n",
       "      <td>1.0</td>\n",
       "      <td>1.0</td>\n",
       "      <td>3.0</td>\n",
       "      <td>0.0</td>\n",
       "      <td>0.0</td>\n",
       "      <td>66.4</td>\n",
       "      <td>54.3</td>\n",
       "      <td>3.0</td>\n",
       "      <td>136</td>\n",
       "      <td>115.0</td>\n",
       "      <td>18</td>\n",
       "      <td>22</td>\n",
       "      <td>17450</td>\n",
       "    </tr>\n",
       "    <tr>\n",
       "      <th>...</th>\n",
       "      <td>...</td>\n",
       "      <td>...</td>\n",
       "      <td>...</td>\n",
       "      <td>...</td>\n",
       "      <td>...</td>\n",
       "      <td>...</td>\n",
       "      <td>...</td>\n",
       "      <td>...</td>\n",
       "      <td>...</td>\n",
       "      <td>...</td>\n",
       "      <td>...</td>\n",
       "      <td>...</td>\n",
       "      <td>...</td>\n",
       "      <td>...</td>\n",
       "      <td>...</td>\n",
       "    </tr>\n",
       "    <tr>\n",
       "      <th>200</th>\n",
       "      <td>-1</td>\n",
       "      <td>95.0</td>\n",
       "      <td>21.0</td>\n",
       "      <td>1.0</td>\n",
       "      <td>3.0</td>\n",
       "      <td>2.0</td>\n",
       "      <td>0.0</td>\n",
       "      <td>68.9</td>\n",
       "      <td>55.5</td>\n",
       "      <td>3.0</td>\n",
       "      <td>141</td>\n",
       "      <td>114.0</td>\n",
       "      <td>23</td>\n",
       "      <td>28</td>\n",
       "      <td>16845</td>\n",
       "    </tr>\n",
       "    <tr>\n",
       "      <th>201</th>\n",
       "      <td>-1</td>\n",
       "      <td>95.0</td>\n",
       "      <td>21.0</td>\n",
       "      <td>1.0</td>\n",
       "      <td>3.0</td>\n",
       "      <td>2.0</td>\n",
       "      <td>0.0</td>\n",
       "      <td>68.8</td>\n",
       "      <td>55.5</td>\n",
       "      <td>3.0</td>\n",
       "      <td>141</td>\n",
       "      <td>160.0</td>\n",
       "      <td>19</td>\n",
       "      <td>25</td>\n",
       "      <td>19045</td>\n",
       "    </tr>\n",
       "    <tr>\n",
       "      <th>202</th>\n",
       "      <td>-1</td>\n",
       "      <td>95.0</td>\n",
       "      <td>21.0</td>\n",
       "      <td>1.0</td>\n",
       "      <td>3.0</td>\n",
       "      <td>2.0</td>\n",
       "      <td>0.0</td>\n",
       "      <td>68.9</td>\n",
       "      <td>55.5</td>\n",
       "      <td>5.0</td>\n",
       "      <td>173</td>\n",
       "      <td>134.0</td>\n",
       "      <td>18</td>\n",
       "      <td>23</td>\n",
       "      <td>21485</td>\n",
       "    </tr>\n",
       "    <tr>\n",
       "      <th>203</th>\n",
       "      <td>-1</td>\n",
       "      <td>95.0</td>\n",
       "      <td>21.0</td>\n",
       "      <td>0.0</td>\n",
       "      <td>3.0</td>\n",
       "      <td>2.0</td>\n",
       "      <td>0.0</td>\n",
       "      <td>68.9</td>\n",
       "      <td>55.5</td>\n",
       "      <td>3.0</td>\n",
       "      <td>145</td>\n",
       "      <td>106.0</td>\n",
       "      <td>26</td>\n",
       "      <td>27</td>\n",
       "      <td>22470</td>\n",
       "    </tr>\n",
       "    <tr>\n",
       "      <th>204</th>\n",
       "      <td>-1</td>\n",
       "      <td>95.0</td>\n",
       "      <td>21.0</td>\n",
       "      <td>1.0</td>\n",
       "      <td>3.0</td>\n",
       "      <td>2.0</td>\n",
       "      <td>0.0</td>\n",
       "      <td>68.9</td>\n",
       "      <td>55.5</td>\n",
       "      <td>3.0</td>\n",
       "      <td>141</td>\n",
       "      <td>114.0</td>\n",
       "      <td>19</td>\n",
       "      <td>25</td>\n",
       "      <td>22625</td>\n",
       "    </tr>\n",
       "  </tbody>\n",
       "</table>\n",
       "<p>205 rows × 15 columns</p>\n",
       "</div>"
      ],
      "text/plain": [
       "     symboling  normalized-losses  make  fuel-type  body-style  drive-wheels  \\\n",
       "0            3              115.0   0.0        1.0         0.0           2.0   \n",
       "1            3              115.0   0.0        1.0         0.0           2.0   \n",
       "2            1              115.0   0.0        1.0         2.0           2.0   \n",
       "3            2              164.0   1.0        1.0         3.0           1.0   \n",
       "4            2              164.0   1.0        1.0         3.0           0.0   \n",
       "..         ...                ...   ...        ...         ...           ...   \n",
       "200         -1               95.0  21.0        1.0         3.0           2.0   \n",
       "201         -1               95.0  21.0        1.0         3.0           2.0   \n",
       "202         -1               95.0  21.0        1.0         3.0           2.0   \n",
       "203         -1               95.0  21.0        0.0         3.0           2.0   \n",
       "204         -1               95.0  21.0        1.0         3.0           2.0   \n",
       "\n",
       "     engine-location  width  height  engine-type  engine-size  horsepower  \\\n",
       "0                0.0   64.1    48.8          0.0          130       111.0   \n",
       "1                0.0   64.1    48.8          0.0          130       111.0   \n",
       "2                0.0   65.5    52.4          5.0          152       154.0   \n",
       "3                0.0   66.2    54.3          3.0          109       102.0   \n",
       "4                0.0   66.4    54.3          3.0          136       115.0   \n",
       "..               ...    ...     ...          ...          ...         ...   \n",
       "200              0.0   68.9    55.5          3.0          141       114.0   \n",
       "201              0.0   68.8    55.5          3.0          141       160.0   \n",
       "202              0.0   68.9    55.5          5.0          173       134.0   \n",
       "203              0.0   68.9    55.5          3.0          145       106.0   \n",
       "204              0.0   68.9    55.5          3.0          141       114.0   \n",
       "\n",
       "     city-mpg  highway-mpg  price  \n",
       "0          21           27  13495  \n",
       "1          21           27  16500  \n",
       "2          19           26  16500  \n",
       "3          24           30  13950  \n",
       "4          18           22  17450  \n",
       "..        ...          ...    ...  \n",
       "200        23           28  16845  \n",
       "201        19           25  19045  \n",
       "202        18           23  21485  \n",
       "203        26           27  22470  \n",
       "204        19           25  22625  \n",
       "\n",
       "[205 rows x 15 columns]"
      ]
     },
     "execution_count": 125,
     "metadata": {},
     "output_type": "execute_result"
    }
   ],
   "source": [
    "df"
   ]
  },
  {
   "cell_type": "code",
   "execution_count": 127,
   "id": "de4c9766-df89-48f2-aeb5-72964449a15a",
   "metadata": {},
   "outputs": [],
   "source": [
    "# So all columns with object dtype are now label encode and not one-hot encode, meaning it won't split into multiple columns"
   ]
  },
  {
   "cell_type": "markdown",
   "id": "20852d45-eb9d-442d-bc99-b28a5a0681b0",
   "metadata": {},
   "source": [
    "## __Model Building__"
   ]
  },
  {
   "cell_type": "code",
   "execution_count": 131,
   "id": "98aa7466-cbf8-4f0d-a7a1-2538a753ec7c",
   "metadata": {},
   "outputs": [],
   "source": [
    "# Diving into x and y\n",
    "\n",
    "x = df.iloc[:,:-1]\n",
    "y = df['price']"
   ]
  },
  {
   "cell_type": "code",
   "execution_count": 133,
   "id": "ca785f7d-a68d-4990-b130-c14f16306ced",
   "metadata": {},
   "outputs": [],
   "source": [
    "# train test split\n",
    "\n",
    "x_train,x_test,y_train,y_test = train_test_split(x,y,test_size=0.3,random_state=1)"
   ]
  },
  {
   "cell_type": "code",
   "execution_count": 137,
   "id": "7798b5dd-08b0-4044-9f37-7ed62d14c098",
   "metadata": {},
   "outputs": [
    {
     "data": {
      "text/plain": [
       "array([ 6114.11943789,  6899.1299745 ,  5179.12129606,  6534.49022809,\n",
       "        9125.91144455, 26384.12259969,  7406.15558344,   895.58275157,\n",
       "        5172.9291232 , 13513.24663171, 15407.85345859, 14421.55136235,\n",
       "       16418.89788598, 11145.35574554, 16463.66533212, 13896.61774947,\n",
       "        7335.98228673,  8845.0632645 , 10862.74899523,  7555.18709439,\n",
       "       11006.99145217,  6830.04912601, 13638.73999814,  6363.9621527 ,\n",
       "       13732.90563984,  8845.0632645 , 15040.20874209,  6544.19455256,\n",
       "        4706.60204753,  9314.78618354,  8128.3940468 , 14321.0634702 ,\n",
       "       25655.82279003, 11987.68138692, 19723.90650907,  6557.53154026,\n",
       "        8154.91470876, 30658.97297566,  9834.8439003 , 16923.44920496,\n",
       "        6520.66900847, 20194.14945986,  7692.55861481,  8459.52258636,\n",
       "        8670.04245903,  7166.21791784, 40486.41308962,  7569.40057796,\n",
       "       17170.51789287, 18954.92930717, 26190.76513016, 16914.80136249,\n",
       "       21856.35461232,  6225.96759922, 13090.60124574,  7294.0335782 ,\n",
       "       11026.86555708, 11260.61809773, 22672.43646491,  8292.10615643,\n",
       "        9523.00301461, 11224.3749507 ])"
      ]
     },
     "execution_count": 137,
     "metadata": {},
     "output_type": "execute_result"
    }
   ],
   "source": [
    "# Linear Regression Model \n",
    "\n",
    "lr = LinearRegression() \n",
    "lr.fit(x_train,y_train)\n",
    "preds = lr.predict(x_test)\n",
    "preds"
   ]
  },
  {
   "cell_type": "code",
   "execution_count": 139,
   "id": "d5d43ac3-7710-461e-b1f1-0b962e5bcf50",
   "metadata": {},
   "outputs": [
    {
     "data": {
      "text/plain": [
       "-64935.113579782475"
      ]
     },
     "execution_count": 139,
     "metadata": {},
     "output_type": "execute_result"
    }
   ],
   "source": [
    "lr.intercept_ # y intercept i.e. c value"
   ]
  },
  {
   "cell_type": "code",
   "execution_count": 141,
   "id": "f6e1ee90-7fc5-426d-8684-43291bae0f10",
   "metadata": {},
   "outputs": [
    {
     "data": {
      "text/plain": [
       "array([ 5.71727164e+01,  4.76320989e-01, -2.01309566e+02, -6.22705136e+02,\n",
       "       -1.63712110e+02,  1.88863899e+03,  1.63884484e+04,  7.90632094e+02,\n",
       "        3.61221503e+02,  2.81207534e+02,  9.82290864e+01, -1.06474945e+01,\n",
       "        3.08435166e+02, -4.17126915e+02])"
      ]
     },
     "execution_count": 141,
     "metadata": {},
     "output_type": "execute_result"
    }
   ],
   "source": [
    "lr.coef_ # slope or coefficient or weight"
   ]
  },
  {
   "cell_type": "code",
   "execution_count": 145,
   "id": "e1b239a5-9e54-4687-bbde-d9831fd8a24a",
   "metadata": {},
   "outputs": [
    {
     "data": {
      "text/plain": [
       "(0.8504229026078213, 0.7964854785429522)"
      ]
     },
     "execution_count": 145,
     "metadata": {},
     "output_type": "execute_result"
    }
   ],
   "source": [
    "lr.score(x_train,y_train),lr.score(x_test,y_test) # Train accuracy, Test accuracy\n",
    "# overfitted model as high train accuracy and low test accuracy"
   ]
  },
  {
   "cell_type": "markdown",
   "id": "4b1055bb-35e9-4e4b-8549-d9a39f9d0173",
   "metadata": {},
   "source": [
    "## __Lasso (L1) Regression -__"
   ]
  },
  {
   "cell_type": "code",
   "execution_count": 153,
   "id": "f7fa5462-de2a-499b-88f2-2a357a2e9ed2",
   "metadata": {},
   "outputs": [
    {
     "data": {
      "text/plain": [
       "(0.8504215478243033, 0.7966615211575689)"
      ]
     },
     "execution_count": 153,
     "metadata": {},
     "output_type": "execute_result"
    }
   ],
   "source": [
    "# after lasso, train accuracy will decrease but test accuracy will increase\n",
    "\n",
    "l1 = Lasso() # alpha = 0.1 by default\n",
    "l1.fit(x_train,y_train)\n",
    "l1.score(x_train,y_train),l1.score(x_test,y_test)\n",
    "\n",
    "# we got same accuracy and overfitted model"
   ]
  },
  {
   "cell_type": "code",
   "execution_count": 155,
   "id": "f96e9a1e-2220-4c63-8e96-0993572bc455",
   "metadata": {},
   "outputs": [
    {
     "data": {
      "text/plain": [
       "array([ 5.70766693e+01,  4.67141700e-01, -2.01139953e+02, -6.14206970e+02,\n",
       "       -1.64751649e+02,  1.88558824e+03,  1.63181959e+04,  7.88680118e+02,\n",
       "        3.61783500e+02,  2.81248690e+02,  9.83193653e+01, -1.05310631e+01,\n",
       "        3.07274772e+02, -4.15725804e+02])"
      ]
     },
     "execution_count": 155,
     "metadata": {},
     "output_type": "execute_result"
    }
   ],
   "source": [
    "l1.coef_\n",
    "# same as previous results: no coefficient is 0 so go for hyperparameter tuning of alpha"
   ]
  },
  {
   "cell_type": "markdown",
   "id": "a148a6a9-8e49-48b9-9da7-4ca1e4d56204",
   "metadata": {},
   "source": [
    "<h2 style=\"color:green\">Hyperparameter Tuning - </h2>"
   ]
  },
  {
   "cell_type": "code",
   "execution_count": 166,
   "id": "19978cee-cbf6-49e8-bb32-67d682c23a3b",
   "metadata": {},
   "outputs": [
    {
     "name": "stdout",
     "output_type": "stream",
     "text": [
      "Alpha: 100 Train: 0.8372483974026499 Test: 0.8092040910955615\n",
      "Alpha: 101 Train: 0.8369899229541409 Test: 0.8092979610738256\n",
      "Alpha: 102 Train: 0.8367288785613758 Test: 0.8093910017461713\n",
      "Alpha: 103 Train: 0.8364651676681871 Test: 0.8094832684251523\n",
      "Alpha: 104 Train: 0.8361989818307348 Test: 0.809574650362481\n",
      "Alpha: 105 Train: 0.8359302253870347 Test: 0.8096652035299013\n",
      "Alpha: 106 Train: 0.8356588978359675 Test: 0.8097549282309101\n",
      "Alpha: 107 Train: 0.8353849991129143 Test: 0.8098438245155561\n",
      "Alpha: 108 Train: 0.8351084257059384 Test: 0.8099319454841268\n",
      "Alpha: 109 Train: 0.8348293842179736 Test: 0.8100191840285436\n",
      "Alpha: 110 Train: 0.8345477714936768 Test: 0.8101055942385992\n",
      "Alpha: 111 Train: 0.8342635877040373 Test: 0.8101911760417996\n",
      "Alpha: 112 Train: 0.8339767222137543 Test: 0.8102759813628974\n",
      "Alpha: 113 Train: 0.8336873954613211 Test: 0.8103599056262563\n",
      "Alpha: 114 Train: 0.8333954973355284 Test: 0.8104430016665038\n",
      "Alpha: 115 Train: 0.8331010276993127 Test: 0.8105252695475362\n",
      "Alpha: 116 Train: 0.8328038691204882 Test: 0.8106067595950119\n",
      "Alpha: 117 Train: 0.8325042561318755 Test: 0.8106873701557592\n",
      "Alpha: 118 Train: 0.8322020717101931 Test: 0.8107671525374287\n",
      "Alpha: 119 Train: 0.8318973159092646 Test: 0.8108461067199921\n",
      "Alpha: 120 Train: 0.8315898643306087 Test: 0.8109242812985726\n",
      "Alpha: 121 Train: 0.8312799660294592 Test: 0.8110015778648528\n",
      "Alpha: 122 Train: 0.8309674969080169 Test: 0.8110780460553539\n",
      "Alpha: 123 Train: 0.8306523257994232 Test: 0.8111537336006445\n",
      "Alpha: 124 Train: 0.8303347149155726 Test: 0.8112285440004985\n",
      "Alpha: 125 Train: 0.8300145320017067 Test: 0.8113025265087273\n",
      "Alpha: 126 Train: 0.8296917792068185 Test: 0.8113756803829955\n",
      "Alpha: 127 Train: 0.8293663164754229 Test: 0.8114480518748997\n",
      "Alpha: 128 Train: 0.8290384195488705 Test: 0.8115195488665821\n",
      "Alpha: 129 Train: 0.8287079533571842 Test: 0.8115902170896445\n",
      "Alpha: 130 Train: 0.8283747703082013 Test: 0.8116601017520375\n",
      "Alpha: 131 Train: 0.8280391586533506 Test: 0.8117291135142942\n",
      "Alpha: 132 Train: 0.8277009785176215 Test: 0.8117972963383392\n",
      "Alpha: 133 Train: 0.8273600743513215 Test: 0.8118646943166661\n",
      "Alpha: 134 Train: 0.8270167519203321 Test: 0.811931219780706\n",
      "Alpha: 135 Train: 0.8266708579462199 Test: 0.8119969172586022\n",
      "Alpha: 136 Train: 0.8263223897906081 Test: 0.8120617874347755\n",
      "Alpha: 137 Train: 0.8259711936341725 Test: 0.8121258693292268\n",
      "Alpha: 138 Train: 0.8256175865009793 Test: 0.8121890813322454\n",
      "Alpha: 139 Train: 0.8252612405575874 Test: 0.8122515055400706\n",
      "Alpha: 140 Train: 0.8249024913515863 Test: 0.8123130602354285\n",
      "Alpha: 141 Train: 0.8245411708666053 Test: 0.8123737869230407\n",
      "Alpha: 142 Train: 0.8241771102161817 Test: 0.8124337227741055\n",
      "Alpha: 143 Train: 0.8238106530253966 Test: 0.8124927911020219\n",
      "Alpha: 144 Train: 0.8234416172134693 Test: 0.8125510330332\n",
      "Alpha: 145 Train: 0.8230698280784812 Test: 0.8126084835163166\n",
      "Alpha: 146 Train: 0.822695650335453 Test: 0.8126650681694728\n",
      "Alpha: 147 Train: 0.8223189013367542 Test: 0.8127208248289377\n",
      "Alpha: 148 Train: 0.8219393940513868 Test: 0.81277578760723\n",
      "Alpha: 149 Train: 0.8215575086176155 Test: 0.812829886091909\n",
      "Alpha: 150 Train: 0.8211730520262539 Test: 0.8128831566524961\n",
      "Alpha: 151 Train: 0.8207858295570519 Test: 0.8129356313528256\n",
      "Alpha: 152 Train: 0.8203962392797491 Test: 0.8129872435786125\n",
      "Alpha: 153 Train: 0.8200038659827095 Test: 0.8130380604531804\n",
      "Alpha: 154 Train: 0.8196091274468164 Test: 0.8130880167485962\n",
      "Alpha: 155 Train: 0.8192116048584221 Test: 0.8131371754207154\n",
      "Alpha: 156 Train: 0.8188117256012319 Test: 0.8131854746070425\n",
      "Alpha: 157 Train: 0.8184092752900354 Test: 0.8132329459427782\n",
      "Alpha: 158 Train: 0.8180040340448277 Test: 0.813279617108145\n",
      "Alpha: 159 Train: 0.8175964432833531 Test: 0.813325431392701\n",
      "Alpha: 160 Train: 0.8171860531186915 Test: 0.8133704442145949\n",
      "Alpha: 161 Train: 0.8167733221546687 Test: 0.8134146014856178\n",
      "Alpha: 162 Train: 0.8163577832181741 Test: 0.8134579558972019\n",
      "Alpha: 163 Train: 0.8159399130313314 Test: 0.813500456125974\n",
      "Alpha: 164 Train: 0.8155192326252294 Test: 0.813542151390936\n",
      "Alpha: 165 Train: 0.8150962240434019 Test: 0.8135829946288717\n",
      "Alpha: 166 Train: 0.8146706427093287 Test: 0.8136230103114316\n",
      "Alpha: 167 Train: 0.814242239042142 Test: 0.8136622185802582\n",
      "Alpha: 168 Train: 0.813811518415617 Test: 0.8137005774315417\n",
      "Alpha: 169 Train: 0.8133779670184814 Test: 0.8137381271523585\n",
      "Alpha: 170 Train: 0.812942107429732 Test: 0.8137748292356427\n",
      "Alpha: 171 Train: 0.8125034086683014 Test: 0.8138107203716056\n",
      "Alpha: 172 Train: 0.8120624104546714 Test: 0.8138457657584284\n",
      "Alpha: 173 Train: 0.811618564748458 Test: 0.8138799982828289\n",
      "Alpha: 174 Train: 0.8111721398138245 Test: 0.8139134011642211\n",
      "Alpha: 175 Train: 0.8107234361496892 Test: 0.8139459609474126\n",
      "Alpha: 176 Train: 0.8102718648859879 Test: 0.8139777051490645\n",
      "Alpha: 177 Train: 0.8098180239059947 Test: 0.8140086084473979\n",
      "Alpha: 178 Train: 0.8093613132661213 Test: 0.8140386937712966\n",
      "Alpha: 179 Train: 0.808902341338292 Test: 0.8140679405535108\n",
      "Alpha: 180 Train: 0.8084404898252787 Test: 0.8140963672263584\n",
      "Alpha: 181 Train: 0.8079760625391161 Test: 0.8141239640881855\n",
      "Alpha: 182 Train: 0.8075093897331425 Test: 0.8141507260035141\n",
      "Alpha: 183 Train: 0.807039816130038 Test: 0.8141766644353039\n",
      "Alpha: 184 Train: 0.8065680080542682 Test: 0.8142017704223898\n",
      "Alpha: 185 Train: 0.8060932933491101 Test: 0.8142260504255304\n",
      "Alpha: 186 Train: 0.8056160025244101 Test: 0.8142495005999418\n",
      "Alpha: 187 Train: 0.8051364964854258 Test: 0.8142721223415648\n",
      "Alpha: 188 Train: 0.8046540668179516 Test: 0.8142939142513763\n",
      "Alpha: 189 Train: 0.8041690622414062 Test: 0.814314876357193\n",
      "Alpha: 190 Train: 0.8036814832401015 Test: 0.8143350086553349\n",
      "Alpha: 191 Train: 0.8031917275605562 Test: 0.8143543185997577\n",
      "Alpha: 192 Train: 0.802699025870538 Test: 0.8143727932940247\n",
      "Alpha: 193 Train: 0.8022037529436445 Test: 0.8143904384269914\n",
      "Alpha: 194 Train: 0.801705909538015 Test: 0.8144072540570486\n",
      "Alpha: 195 Train: 0.8012054966196824 Test: 0.8144232402636585\n",
      "Alpha: 196 Train: 0.8007025151793871 Test: 0.8144383971441083\n",
      "Alpha: 197 Train: 0.8001973998845262 Test: 0.8144527419474972\n",
      "Alpha: 198 Train: 0.7996892947832841 Test: 0.8144662423958204\n",
      "Alpha: 199 Train: 0.7991786241960611 Test: 0.8144789139191481\n"
     ]
    }
   ],
   "source": [
    "for i in range(100,200): # try 50 to 100, 100 to 200\n",
    "  l1 = Lasso(alpha = i)\n",
    "  l1.fit(x_train,y_train)\n",
    "  print(f\"Alpha: {i} Train: {l1.score(x_train,y_train)} Test: {l1.score(x_test,y_test)}\")"
   ]
  },
  {
   "cell_type": "code",
   "execution_count": 168,
   "id": "d4e3595b-65f7-45f1-a103-5b1bf3f11184",
   "metadata": {},
   "outputs": [
    {
     "data": {
      "text/plain": [
       "(0.8107234361496892, 0.8139459609474126)"
      ]
     },
     "execution_count": 168,
     "metadata": {},
     "output_type": "execute_result"
    }
   ],
   "source": [
    "# as alpha increases train accuracy decreases and test accuracy increases\n",
    "# so try big alpha value\n",
    "# in above code try changing range from 50 to 100, 150 to 200\n",
    "\n",
    "l1 = Lasso(alpha = 175) # select any value where train and test accuracy is same\n",
    "l1.fit(x_train,y_train)\n",
    "l1.score(x_train,y_train),l1.score(x_test,y_test)\n"
   ]
  },
  {
   "cell_type": "code",
   "execution_count": 170,
   "id": "427c47f3-34fd-4ed4-98d0-9016f01858c2",
   "metadata": {},
   "outputs": [
    {
     "data": {
      "text/plain": [
       "array([  26.15091464,   -0.        , -173.02547787,   -0.        ,\n",
       "       -363.80743898, 1247.84193718, 3867.709301  ,  391.04314711,\n",
       "        451.57194036,  297.35122938,  113.32977728,   11.00742675,\n",
       "         70.90090498, -160.35202828])"
      ]
     },
     "execution_count": 170,
     "metadata": {},
     "output_type": "execute_result"
    }
   ],
   "source": [
    "l1.coef_ # check columns whose slope is 0. They are not important in model building\n",
    "# normalized-losses, fuel-type are not important"
   ]
  },
  {
   "cell_type": "code",
   "execution_count": 172,
   "id": "21cabc6e-050f-4c7f-9904-d3aa6d9d9bd3",
   "metadata": {},
   "outputs": [
    {
     "data": {
      "text/plain": [
       "Index(['symboling', 'normalized-losses', 'make', 'fuel-type', 'body-style',\n",
       "       'drive-wheels', 'engine-location', 'width', 'height', 'engine-type',\n",
       "       'engine-size', 'horsepower', 'city-mpg', 'highway-mpg'],\n",
       "      dtype='object')"
      ]
     },
     "execution_count": 172,
     "metadata": {},
     "output_type": "execute_result"
    }
   ],
   "source": [
    "x_train.columns"
   ]
  },
  {
   "cell_type": "markdown",
   "id": "ff1d3ae2-4bc3-416b-8d8a-8d911e6791c9",
   "metadata": {},
   "source": [
    "## __Ridge (L2) Regression -__"
   ]
  },
  {
   "cell_type": "code",
   "execution_count": 180,
   "id": "1c8b6500-b49c-42dd-9943-2dd499abcaa1",
   "metadata": {},
   "outputs": [
    {
     "data": {
      "text/plain": [
       "(0.8435840853399228, 0.8075632224690532)"
      ]
     },
     "execution_count": 180,
     "metadata": {},
     "output_type": "execute_result"
    }
   ],
   "source": [
    "l2 = Ridge()\n",
    "l2.fit(x_train,y_train)\n",
    "l2.score(x_train,y_train), l2.score(x_test,y_test)"
   ]
  },
  {
   "cell_type": "code",
   "execution_count": 184,
   "id": "229f7bd5-0c9c-41f4-b119-b07a477458f1",
   "metadata": {},
   "outputs": [
    {
     "name": "stdout",
     "output_type": "stream",
     "text": [
      "Alpha: 1 Train: 0.8435840853399228 Test: 0.8075632224690532\n",
      "Alpha: 2 Train: 0.8356695734845091 Test: 0.8112192014374253\n",
      "Alpha: 3 Train: 0.8296379623431074 Test: 0.8129299663310144\n",
      "Alpha: 4 Train: 0.8250699092246865 Test: 0.8138839096972438\n",
      "Alpha: 5 Train: 0.8215093087765014 Test: 0.8144682684596012\n",
      "Alpha: 6 Train: 0.818648610383485 Test: 0.8148435627265228\n",
      "Alpha: 7 Train: 0.8162882573020809 Test: 0.8150880725612084\n",
      "Alpha: 8 Train: 0.8142964263180523 Test: 0.815244730507158\n",
      "Alpha: 9 Train: 0.812583522729097 Test: 0.8153392574436445\n",
      "Alpha: 10 Train: 0.8110868722186452 Test: 0.8153881483263247\n",
      "Alpha: 11 Train: 0.8097614513602517 Test: 0.8154025610279507\n",
      "Alpha: 12 Train: 0.8085741366835051 Test: 0.8153903693701572\n",
      "Alpha: 13 Train: 0.8075000372738094 Test: 0.815357321289201\n",
      "Alpha: 14 Train: 0.8065200924084595 Test: 0.8153077294072232\n",
      "Alpha: 15 Train: 0.8056194580416447 Test: 0.8152449025615434\n",
      "Alpha: 16 Train: 0.8047863980733031 Test: 0.815171426484327\n",
      "Alpha: 17 Train: 0.8040115065187472 Test: 0.8150893527689591\n",
      "Alpha: 18 Train: 0.8032871514648677 Test: 0.8150003299437462\n",
      "Alpha: 19 Train: 0.8026070707304608 Test: 0.8149056967781803\n",
      "Alpha: 20 Train: 0.8019660732378707 Test: 0.8148065502246252\n",
      "Alpha: 21 Train: 0.8013598153077787 Test: 0.8147037958811016\n",
      "Alpha: 22 Train: 0.8007846308878104 Test: 0.8145981861304737\n",
      "Alpha: 23 Train: 0.8002374011637663 Test: 0.8144903494117508\n",
      "Alpha: 24 Train: 0.7997154533085169 Test: 0.814380812992724\n",
      "Alpha: 25 Train: 0.799216481051841 Test: 0.8142700209017133\n",
      "Alpha: 26 Train: 0.7987384817763887 Test: 0.814158348199973\n",
      "Alpha: 27 Train: 0.7982797062609372 Test: 0.8140461124511116\n",
      "Alpha: 28 Train: 0.7978386181969567 Test: 0.8139335830177276\n",
      "Alpha: 29 Train: 0.7974138613263304 Test: 0.8138209886554859\n",
      "Alpha: 30 Train: 0.7970042325726074 Test: 0.8137085237599926\n",
      "Alpha: 31 Train: 0.796608659923398 Test: 0.8135963535381275\n",
      "Alpha: 32 Train: 0.7962261841073035 Test: 0.8134846183137234\n",
      "Alpha: 33 Train: 0.795855943322788 Test: 0.8133734371313504\n",
      "Alpha: 34 Train: 0.7954971604380746 Test: 0.8132629107871042\n",
      "Alpha: 35 Train: 0.7951491322043275 Test: 0.813153124388708\n",
      "Alpha: 36 Train: 0.7948112201189454 Test: 0.8130441495267422\n",
      "Alpha: 37 Train: 0.7944828426489627 Test: 0.8129360461229016\n",
      "Alpha: 38 Train: 0.7941634685815293 Test: 0.8128288640086808\n",
      "Alpha: 39 Train: 0.7938526113131447 Test: 0.8127226442780507\n",
      "Alpha: 40 Train: 0.7935498239245846 Test: 0.8126174204498456\n",
      "Alpha: 41 Train: 0.7932546949164727 Test: 0.8125132194693003\n",
      "Alpha: 42 Train: 0.7929668445028011 Test: 0.8124100625731354\n",
      "Alpha: 43 Train: 0.7926859213776736 Test: 0.8123079660384831\n",
      "Alpha: 44 Train: 0.7924115998850197 Test: 0.8122069418326153\n",
      "Alpha: 45 Train: 0.7921435775328081 Test: 0.8121069981777134\n",
      "Alpha: 46 Train: 0.7918815728028477 Test: 0.8120081400426533\n",
      "Alpha: 47 Train: 0.7916253232151244 Test: 0.811910369571946\n",
      "Alpha: 48 Train: 0.7913745836120685 Test: 0.8118136864604218\n",
      "Alpha: 49 Train: 0.7911291246334807 Test: 0.8117180882809594\n",
      "Alpha: 50 Train: 0.7908887313572606 Test: 0.8116235707715008\n",
      "Alpha: 51 Train: 0.7906532020847592 Test: 0.8115301280866843\n",
      "Alpha: 52 Train: 0.7904223472526622 Test: 0.8114377530186674\n",
      "Alpha: 53 Train: 0.7901959884558678 Test: 0.811346437191079\n",
      "Alpha: 54 Train: 0.7899739575680174 Test: 0.8112561712294915\n",
      "Alpha: 55 Train: 0.7897560959481498 Test: 0.8111669449113402\n",
      "Alpha: 56 Train: 0.7895422537235102 Test: 0.811078747297838\n",
      "Alpha: 57 Train: 0.7893322891398644 Test: 0.8109915668500709\n",
      "Alpha: 58 Train: 0.7891260679717907 Test: 0.8109053915312062\n",
      "Alpha: 59 Train: 0.7889234629863806 Test: 0.8108202088964673\n",
      "Alpha: 60 Train: 0.788724353454611 Test: 0.8107360061723383\n",
      "Alpha: 61 Train: 0.7885286247053471 Test: 0.8106527703262637\n",
      "Alpha: 62 Train: 0.7883361677175604 Test: 0.8105704881279608\n",
      "Alpha: 63 Train: 0.7881468787468562 Test: 0.8104891462033195\n",
      "Alpha: 64 Train: 0.7879606589828785 Test: 0.8104087310817415\n",
      "Alpha: 65 Train: 0.7877774142345472 Test: 0.8103292292376812\n",
      "Alpha: 66 Train: 0.7875970546404287 Test: 0.8102506271270438\n",
      "Alpha: 67 Train: 0.7874194944018464 Test: 0.8101729112190275\n",
      "Alpha: 68 Train: 0.7872446515365974 Test: 0.8100960680239269\n",
      "Alpha: 69 Train: 0.7870724476513742 Test: 0.8100200841173539\n",
      "Alpha: 70 Train: 0.7869028077311929 Test: 0.8099449461612762\n",
      "Alpha: 71 Train: 0.7867356599443074 Test: 0.809870640922232\n",
      "Alpha: 72 Train: 0.7865709354612442 Test: 0.809797155287042\n",
      "Alpha: 73 Train: 0.7864085682867381 Test: 0.8097244762762874\n",
      "Alpha: 74 Train: 0.7862484951034633 Test: 0.8096525910558197\n",
      "Alpha: 75 Train: 0.786090655126568 Test: 0.8095814869465083\n",
      "Alpha: 76 Train: 0.7859349899681198 Test: 0.8095111514324314\n",
      "Alpha: 77 Train: 0.7857814435106489 Test: 0.8094415721676849\n",
      "Alpha: 78 Train: 0.7856299617890593 Test: 0.8093727369819633\n",
      "Alpha: 79 Train: 0.7854804928802399 Test: 0.8093046338850488\n",
      "Alpha: 80 Train: 0.785332986799778 Test: 0.8092372510703421\n",
      "Alpha: 81 Train: 0.785187395405222 Test: 0.809170576917534\n",
      "Alpha: 82 Train: 0.7850436723053973 Test: 0.8091045999945259\n",
      "Alpha: 83 Train: 0.7849017727753196 Test: 0.8090393090586789\n",
      "Alpha: 84 Train: 0.78476165367629 Test: 0.808974693057478\n",
      "Alpha: 85 Train: 0.7846232733807958 Test: 0.8089107411286774\n",
      "Alpha: 86 Train: 0.7844865917018649 Test: 0.8088474425999876\n",
      "Alpha: 87 Train: 0.7843515698265606 Test: 0.8087847869883675\n",
      "Alpha: 88 Train: 0.7842181702533259 Test: 0.8087227639989626\n",
      "Alpha: 89 Train: 0.7840863567329016 Test: 0.8086613635237427\n",
      "Alpha: 90 Train: 0.7839560942125866 Test: 0.8086005756398726\n",
      "Alpha: 91 Train: 0.7838273487836 Test: 0.8085403906078548\n",
      "Alpha: 92 Train: 0.7837000876313459 Test: 0.8084807988694748\n",
      "Alpha: 93 Train: 0.7835742789883862 Test: 0.80842179104558\n",
      "Alpha: 94 Train: 0.783449892089942 Test: 0.8083633579337145\n",
      "Alpha: 95 Train: 0.7833268971317657 Test: 0.8083054905056333\n",
      "Alpha: 96 Train: 0.7832052652302253 Test: 0.8082481799047188\n",
      "Alpha: 97 Train: 0.7830849683844653 Test: 0.8081914174433134\n",
      "Alpha: 98 Train: 0.7829659794405157 Test: 0.8081351945999873\n",
      "Alpha: 99 Train: 0.7828482720572245 Test: 0.8080795030167582\n"
     ]
    }
   ],
   "source": [
    "for i in range(1,100):\n",
    "    l2 = Ridge(alpha=i)\n",
    "    l2.fit(x_train,y_train)\n",
    "    print(f\"Alpha: {i} Train: {l2.score(x_train,y_train)} Test: {l2.score(x_test,y_test)}\")\n",
    "    # alpha = 6 to 10 same train and test accuracies"
   ]
  },
  {
   "cell_type": "code",
   "execution_count": 186,
   "id": "f0fa28b4-bfb5-415f-b5a4-e57f6107fa9c",
   "metadata": {},
   "outputs": [
    {
     "data": {
      "text/plain": [
       "(0.8142964263180523, 0.815244730507158)"
      ]
     },
     "execution_count": 186,
     "metadata": {},
     "output_type": "execute_result"
    }
   ],
   "source": [
    "l2 = Ridge(alpha = 8)\n",
    "l2.fit(x_train,y_train)\n",
    "l2.score(x_train,y_train),l2.score(x_test,y_test)"
   ]
  },
  {
   "cell_type": "code",
   "execution_count": 190,
   "id": "e4750ce1-18c1-4a16-a6db-f01959eb7e27",
   "metadata": {},
   "outputs": [
    {
     "data": {
      "text/plain": [
       "array([ 232.21099351,   -3.20670335, -189.34649798, -973.96360026,\n",
       "       -611.0457004 , 1676.24489552, 3064.9010721 ,  383.53935829,\n",
       "        561.24716944,  513.14971523,  103.43849153,   20.83054838,\n",
       "        211.07802458, -276.03878654])"
      ]
     },
     "execution_count": 190,
     "metadata": {},
     "output_type": "execute_result"
    }
   ],
   "source": [
    "l2.coef_   # It doen't make any slope to 0"
   ]
  },
  {
   "cell_type": "markdown",
   "id": "13330983-d015-4386-94cf-a62e4628ff74",
   "metadata": {},
   "source": [
    "## __Elastic Net__"
   ]
  },
  {
   "cell_type": "code",
   "execution_count": 194,
   "id": "53f674c0-4058-463b-9eb7-f12c856282ca",
   "metadata": {},
   "outputs": [
    {
     "data": {
      "text/plain": [
       "(0.7866253599240466, 0.809826481725613)"
      ]
     },
     "execution_count": 194,
     "metadata": {},
     "output_type": "execute_result"
    }
   ],
   "source": [
    "en = ElasticNet(alpha = 1) # default alpha=0.1\n",
    "en.fit(x_train,y_train)\n",
    "en.score(x_train,y_train),en.score(x_test,y_test)"
   ]
  },
  {
   "cell_type": "code",
   "execution_count": 196,
   "id": "79dbc499-b5c3-4191-9393-e260c09ebf6e",
   "metadata": {},
   "outputs": [],
   "source": [
    "# We can go for Ridge Regression or Lasso"
   ]
  },
  {
   "cell_type": "code",
   "execution_count": null,
   "id": "1f6ca54f-6a65-4ef4-b1e9-b846ab6c9854",
   "metadata": {},
   "outputs": [],
   "source": []
  }
 ],
 "metadata": {
  "kernelspec": {
   "display_name": "Python 3 (ipykernel)",
   "language": "python",
   "name": "python3"
  },
  "language_info": {
   "codemirror_mode": {
    "name": "ipython",
    "version": 3
   },
   "file_extension": ".py",
   "mimetype": "text/x-python",
   "name": "python",
   "nbconvert_exporter": "python",
   "pygments_lexer": "ipython3",
   "version": "3.12.4"
  }
 },
 "nbformat": 4,
 "nbformat_minor": 5
}
