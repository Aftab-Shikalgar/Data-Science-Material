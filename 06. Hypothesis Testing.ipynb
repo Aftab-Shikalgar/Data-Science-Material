{
 "cells": [
  {
   "cell_type": "raw",
   "id": "3c0c02d2-d340-4052-b698-125ca9d8d5ca",
   "metadata": {},
   "source": [
    "# steps \n",
    "\n",
    "1 - Define null and alternate hypothesis\n",
    "2 - find z or t value\n",
    "3 - Specify value of alpha\n",
    "4 - Calculate P value\n",
    "5 - Compare P value and alpha"
   ]
  },
  {
   "cell_type": "code",
   "execution_count": 12,
   "id": "f3d04732-10f2-493a-a30d-428e364a33b0",
   "metadata": {},
   "outputs": [],
   "source": [
    "import pandas as pd\n",
    "from scipy import stats\n",
    "import numpy as np"
   ]
  },
  {
   "cell_type": "markdown",
   "id": "9989b13d-f74f-443c-a5a0-2bcd48af1c62",
   "metadata": {},
   "source": [
    "<img src=\"images\\\\hypo_test_exmaple.png\" alt=\"image\" width=\"500px\">"
   ]
  },
  {
   "cell_type": "code",
   "execution_count": 6,
   "id": "20887575-7c9b-472f-8898-7860510f654d",
   "metadata": {},
   "outputs": [],
   "source": [
    "call_center_data = pd.read_csv(\"Datasets\\\\Hypo_test.csv\")"
   ]
  },
  {
   "cell_type": "code",
   "execution_count": 8,
   "id": "65941d0e-22b8-43b2-aebe-4dfc3a6fce93",
   "metadata": {},
   "outputs": [
    {
     "data": {
      "text/html": [
       "<div>\n",
       "<style scoped>\n",
       "    .dataframe tbody tr th:only-of-type {\n",
       "        vertical-align: middle;\n",
       "    }\n",
       "\n",
       "    .dataframe tbody tr th {\n",
       "        vertical-align: top;\n",
       "    }\n",
       "\n",
       "    .dataframe thead th {\n",
       "        text-align: right;\n",
       "    }\n",
       "</style>\n",
       "<table border=\"1\" class=\"dataframe\">\n",
       "  <thead>\n",
       "    <tr style=\"text-align: right;\">\n",
       "      <th></th>\n",
       "      <th>Day</th>\n",
       "      <th>Mean Call Duration</th>\n",
       "    </tr>\n",
       "  </thead>\n",
       "  <tbody>\n",
       "    <tr>\n",
       "      <th>0</th>\n",
       "      <td>1</td>\n",
       "      <td>3.7</td>\n",
       "    </tr>\n",
       "    <tr>\n",
       "      <th>1</th>\n",
       "      <td>2</td>\n",
       "      <td>4.1</td>\n",
       "    </tr>\n",
       "    <tr>\n",
       "      <th>2</th>\n",
       "      <td>3</td>\n",
       "      <td>3.5</td>\n",
       "    </tr>\n",
       "    <tr>\n",
       "      <th>3</th>\n",
       "      <td>4</td>\n",
       "      <td>4.2</td>\n",
       "    </tr>\n",
       "    <tr>\n",
       "      <th>4</th>\n",
       "      <td>5</td>\n",
       "      <td>3.9</td>\n",
       "    </tr>\n",
       "    <tr>\n",
       "      <th>5</th>\n",
       "      <td>6</td>\n",
       "      <td>4.1</td>\n",
       "    </tr>\n",
       "    <tr>\n",
       "      <th>6</th>\n",
       "      <td>7</td>\n",
       "      <td>4.2</td>\n",
       "    </tr>\n",
       "    <tr>\n",
       "      <th>7</th>\n",
       "      <td>8</td>\n",
       "      <td>3.8</td>\n",
       "    </tr>\n",
       "    <tr>\n",
       "      <th>8</th>\n",
       "      <td>9</td>\n",
       "      <td>3.7</td>\n",
       "    </tr>\n",
       "    <tr>\n",
       "      <th>9</th>\n",
       "      <td>10</td>\n",
       "      <td>4.6</td>\n",
       "    </tr>\n",
       "    <tr>\n",
       "      <th>10</th>\n",
       "      <td>11</td>\n",
       "      <td>3.7</td>\n",
       "    </tr>\n",
       "    <tr>\n",
       "      <th>11</th>\n",
       "      <td>12</td>\n",
       "      <td>4.6</td>\n",
       "    </tr>\n",
       "    <tr>\n",
       "      <th>12</th>\n",
       "      <td>13</td>\n",
       "      <td>4.0</td>\n",
       "    </tr>\n",
       "    <tr>\n",
       "      <th>13</th>\n",
       "      <td>14</td>\n",
       "      <td>4.2</td>\n",
       "    </tr>\n",
       "    <tr>\n",
       "      <th>14</th>\n",
       "      <td>15</td>\n",
       "      <td>3.8</td>\n",
       "    </tr>\n",
       "    <tr>\n",
       "      <th>15</th>\n",
       "      <td>16</td>\n",
       "      <td>4.4</td>\n",
       "    </tr>\n",
       "    <tr>\n",
       "      <th>16</th>\n",
       "      <td>17</td>\n",
       "      <td>5.3</td>\n",
       "    </tr>\n",
       "    <tr>\n",
       "      <th>17</th>\n",
       "      <td>18</td>\n",
       "      <td>6.1</td>\n",
       "    </tr>\n",
       "    <tr>\n",
       "      <th>18</th>\n",
       "      <td>19</td>\n",
       "      <td>7.2</td>\n",
       "    </tr>\n",
       "    <tr>\n",
       "      <th>19</th>\n",
       "      <td>20</td>\n",
       "      <td>6.5</td>\n",
       "    </tr>\n",
       "  </tbody>\n",
       "</table>\n",
       "</div>"
      ],
      "text/plain": [
       "    Day  Mean Call Duration\n",
       "0     1                 3.7\n",
       "1     2                 4.1\n",
       "2     3                 3.5\n",
       "3     4                 4.2\n",
       "4     5                 3.9\n",
       "5     6                 4.1\n",
       "6     7                 4.2\n",
       "7     8                 3.8\n",
       "8     9                 3.7\n",
       "9    10                 4.6\n",
       "10   11                 3.7\n",
       "11   12                 4.6\n",
       "12   13                 4.0\n",
       "13   14                 4.2\n",
       "14   15                 3.8\n",
       "15   16                 4.4\n",
       "16   17                 5.3\n",
       "17   18                 6.1\n",
       "18   19                 7.2\n",
       "19   20                 6.5"
      ]
     },
     "execution_count": 8,
     "metadata": {},
     "output_type": "execute_result"
    }
   ],
   "source": [
    "call_center_data"
   ]
  },
  {
   "cell_type": "code",
   "execution_count": 10,
   "id": "43117c6f-f6fe-4767-8474-5136cefea731",
   "metadata": {},
   "outputs": [
    {
     "data": {
      "text/plain": [
       "Day                     int64\n",
       "Mean Call Duration    float64\n",
       "dtype: object"
      ]
     },
     "execution_count": 10,
     "metadata": {},
     "output_type": "execute_result"
    }
   ],
   "source": [
    "call_center_data.dtypes"
   ]
  },
  {
   "cell_type": "raw",
   "id": "94c1b509-d3a3-44cb-a0a4-fb58ed638cf9",
   "metadata": {},
   "source": [
    "# according to problem statement, \n",
    "\n",
    "h0 -> µ = 4 i.e.no change\n",
    "h1 -> µ != 4 i.e.action needs to take on employees"
   ]
  },
  {
   "cell_type": "code",
   "execution_count": 14,
   "id": "66e93e6e-771c-474f-9856-0b7439edca2c",
   "metadata": {},
   "outputs": [],
   "source": [
    "# for day 10\n",
    "\n",
    "# t_val = (x_bar - meu) / (s/root(n))\n",
    "\n",
    "t_val = (4.6 - 4)/(3/np.sqrt(50))   # 50 because the column mean call time represents mean call time of 50 calls"
   ]
  },
  {
   "cell_type": "code",
   "execution_count": 18,
   "id": "7aaffd9d-d132-4945-8e6e-09ef2aa67b40",
   "metadata": {},
   "outputs": [
    {
     "data": {
      "text/plain": [
       "1.4142135623730943"
      ]
     },
     "execution_count": 18,
     "metadata": {},
     "output_type": "execute_result"
    }
   ],
   "source": [
    "t_val"
   ]
  },
  {
   "cell_type": "code",
   "execution_count": 44,
   "id": "4655275d-acbe-4236-a796-e0f6f01d43ca",
   "metadata": {},
   "outputs": [],
   "source": [
    "# p value\n",
    "\n",
    "p_value = 2*stats.t.cdf(-t_val,49)  # as its 2 tail"
   ]
  },
  {
   "cell_type": "code",
   "execution_count": 46,
   "id": "31dcc464-ef62-45ed-a043-9aa460ef176b",
   "metadata": {},
   "outputs": [
    {
     "data": {
      "text/plain": [
       "0.16362201811838478"
      ]
     },
     "execution_count": 46,
     "metadata": {},
     "output_type": "execute_result"
    }
   ],
   "source": [
    "p_value"
   ]
  },
  {
   "cell_type": "code",
   "execution_count": 54,
   "id": "43b4bac8-17d6-4e6e-b339-117e41de316f",
   "metadata": {},
   "outputs": [
    {
     "data": {
      "text/plain": [
       "Index(['Day', 'Mean Call Duration', 't_value'], dtype='object')"
      ]
     },
     "execution_count": 54,
     "metadata": {},
     "output_type": "execute_result"
    }
   ],
   "source": [
    "call_center_data.columns"
   ]
  },
  {
   "cell_type": "code",
   "execution_count": 50,
   "id": "5db1ba1c-6a9d-4825-9686-5c7d291c30d0",
   "metadata": {},
   "outputs": [],
   "source": [
    "# for entire dataset\n",
    "\n",
    "call_center_data['t_value'] = (call_center_data['Mean Call Duration'] - 4)/(3/np.sqrt(50)) "
   ]
  },
  {
   "cell_type": "code",
   "execution_count": 52,
   "id": "64b2d359-7364-4cd0-925d-5f341640d85c",
   "metadata": {},
   "outputs": [
    {
     "data": {
      "text/html": [
       "<div>\n",
       "<style scoped>\n",
       "    .dataframe tbody tr th:only-of-type {\n",
       "        vertical-align: middle;\n",
       "    }\n",
       "\n",
       "    .dataframe tbody tr th {\n",
       "        vertical-align: top;\n",
       "    }\n",
       "\n",
       "    .dataframe thead th {\n",
       "        text-align: right;\n",
       "    }\n",
       "</style>\n",
       "<table border=\"1\" class=\"dataframe\">\n",
       "  <thead>\n",
       "    <tr style=\"text-align: right;\">\n",
       "      <th></th>\n",
       "      <th>Day</th>\n",
       "      <th>Mean Call Duration</th>\n",
       "      <th>t_value</th>\n",
       "    </tr>\n",
       "  </thead>\n",
       "  <tbody>\n",
       "    <tr>\n",
       "      <th>0</th>\n",
       "      <td>1</td>\n",
       "      <td>3.7</td>\n",
       "      <td>-0.707107</td>\n",
       "    </tr>\n",
       "    <tr>\n",
       "      <th>1</th>\n",
       "      <td>2</td>\n",
       "      <td>4.1</td>\n",
       "      <td>0.235702</td>\n",
       "    </tr>\n",
       "    <tr>\n",
       "      <th>2</th>\n",
       "      <td>3</td>\n",
       "      <td>3.5</td>\n",
       "      <td>-1.178511</td>\n",
       "    </tr>\n",
       "    <tr>\n",
       "      <th>3</th>\n",
       "      <td>4</td>\n",
       "      <td>4.2</td>\n",
       "      <td>0.471405</td>\n",
       "    </tr>\n",
       "    <tr>\n",
       "      <th>4</th>\n",
       "      <td>5</td>\n",
       "      <td>3.9</td>\n",
       "      <td>-0.235702</td>\n",
       "    </tr>\n",
       "    <tr>\n",
       "      <th>5</th>\n",
       "      <td>6</td>\n",
       "      <td>4.1</td>\n",
       "      <td>0.235702</td>\n",
       "    </tr>\n",
       "    <tr>\n",
       "      <th>6</th>\n",
       "      <td>7</td>\n",
       "      <td>4.2</td>\n",
       "      <td>0.471405</td>\n",
       "    </tr>\n",
       "    <tr>\n",
       "      <th>7</th>\n",
       "      <td>8</td>\n",
       "      <td>3.8</td>\n",
       "      <td>-0.471405</td>\n",
       "    </tr>\n",
       "    <tr>\n",
       "      <th>8</th>\n",
       "      <td>9</td>\n",
       "      <td>3.7</td>\n",
       "      <td>-0.707107</td>\n",
       "    </tr>\n",
       "    <tr>\n",
       "      <th>9</th>\n",
       "      <td>10</td>\n",
       "      <td>4.6</td>\n",
       "      <td>1.414214</td>\n",
       "    </tr>\n",
       "    <tr>\n",
       "      <th>10</th>\n",
       "      <td>11</td>\n",
       "      <td>3.7</td>\n",
       "      <td>-0.707107</td>\n",
       "    </tr>\n",
       "    <tr>\n",
       "      <th>11</th>\n",
       "      <td>12</td>\n",
       "      <td>4.6</td>\n",
       "      <td>1.414214</td>\n",
       "    </tr>\n",
       "    <tr>\n",
       "      <th>12</th>\n",
       "      <td>13</td>\n",
       "      <td>4.0</td>\n",
       "      <td>0.000000</td>\n",
       "    </tr>\n",
       "    <tr>\n",
       "      <th>13</th>\n",
       "      <td>14</td>\n",
       "      <td>4.2</td>\n",
       "      <td>0.471405</td>\n",
       "    </tr>\n",
       "    <tr>\n",
       "      <th>14</th>\n",
       "      <td>15</td>\n",
       "      <td>3.8</td>\n",
       "      <td>-0.471405</td>\n",
       "    </tr>\n",
       "    <tr>\n",
       "      <th>15</th>\n",
       "      <td>16</td>\n",
       "      <td>4.4</td>\n",
       "      <td>0.942809</td>\n",
       "    </tr>\n",
       "    <tr>\n",
       "      <th>16</th>\n",
       "      <td>17</td>\n",
       "      <td>5.3</td>\n",
       "      <td>3.064129</td>\n",
       "    </tr>\n",
       "    <tr>\n",
       "      <th>17</th>\n",
       "      <td>18</td>\n",
       "      <td>6.1</td>\n",
       "      <td>4.949747</td>\n",
       "    </tr>\n",
       "    <tr>\n",
       "      <th>18</th>\n",
       "      <td>19</td>\n",
       "      <td>7.2</td>\n",
       "      <td>7.542472</td>\n",
       "    </tr>\n",
       "    <tr>\n",
       "      <th>19</th>\n",
       "      <td>20</td>\n",
       "      <td>6.5</td>\n",
       "      <td>5.892557</td>\n",
       "    </tr>\n",
       "  </tbody>\n",
       "</table>\n",
       "</div>"
      ],
      "text/plain": [
       "    Day  Mean Call Duration   t_value\n",
       "0     1                 3.7 -0.707107\n",
       "1     2                 4.1  0.235702\n",
       "2     3                 3.5 -1.178511\n",
       "3     4                 4.2  0.471405\n",
       "4     5                 3.9 -0.235702\n",
       "5     6                 4.1  0.235702\n",
       "6     7                 4.2  0.471405\n",
       "7     8                 3.8 -0.471405\n",
       "8     9                 3.7 -0.707107\n",
       "9    10                 4.6  1.414214\n",
       "10   11                 3.7 -0.707107\n",
       "11   12                 4.6  1.414214\n",
       "12   13                 4.0  0.000000\n",
       "13   14                 4.2  0.471405\n",
       "14   15                 3.8 -0.471405\n",
       "15   16                 4.4  0.942809\n",
       "16   17                 5.3  3.064129\n",
       "17   18                 6.1  4.949747\n",
       "18   19                 7.2  7.542472\n",
       "19   20                 6.5  5.892557"
      ]
     },
     "execution_count": 52,
     "metadata": {},
     "output_type": "execute_result"
    }
   ],
   "source": [
    "call_center_data"
   ]
  },
  {
   "cell_type": "code",
   "execution_count": 56,
   "id": "e28535e3-a524-40c3-be87-a035b113b137",
   "metadata": {},
   "outputs": [],
   "source": [
    "# for p values\n",
    "\n",
    "call_center_data['p_value'] = 2*stats.t.cdf(-(call_center_data['t_value']),49)"
   ]
  },
  {
   "cell_type": "code",
   "execution_count": 58,
   "id": "c7890687-964f-48b8-b931-58cbcdbe2304",
   "metadata": {},
   "outputs": [
    {
     "data": {
      "text/html": [
       "<div>\n",
       "<style scoped>\n",
       "    .dataframe tbody tr th:only-of-type {\n",
       "        vertical-align: middle;\n",
       "    }\n",
       "\n",
       "    .dataframe tbody tr th {\n",
       "        vertical-align: top;\n",
       "    }\n",
       "\n",
       "    .dataframe thead th {\n",
       "        text-align: right;\n",
       "    }\n",
       "</style>\n",
       "<table border=\"1\" class=\"dataframe\">\n",
       "  <thead>\n",
       "    <tr style=\"text-align: right;\">\n",
       "      <th></th>\n",
       "      <th>Day</th>\n",
       "      <th>Mean Call Duration</th>\n",
       "      <th>t_value</th>\n",
       "      <th>p_value</th>\n",
       "    </tr>\n",
       "  </thead>\n",
       "  <tbody>\n",
       "    <tr>\n",
       "      <th>0</th>\n",
       "      <td>1</td>\n",
       "      <td>3.7</td>\n",
       "      <td>-0.707107</td>\n",
       "      <td>1.517150e+00</td>\n",
       "    </tr>\n",
       "    <tr>\n",
       "      <th>1</th>\n",
       "      <td>2</td>\n",
       "      <td>4.1</td>\n",
       "      <td>0.235702</td>\n",
       "      <td>8.146461e-01</td>\n",
       "    </tr>\n",
       "    <tr>\n",
       "      <th>2</th>\n",
       "      <td>3</td>\n",
       "      <td>3.5</td>\n",
       "      <td>-1.178511</td>\n",
       "      <td>1.755716e+00</td>\n",
       "    </tr>\n",
       "    <tr>\n",
       "      <th>3</th>\n",
       "      <td>4</td>\n",
       "      <td>4.2</td>\n",
       "      <td>0.471405</td>\n",
       "      <td>6.394441e-01</td>\n",
       "    </tr>\n",
       "    <tr>\n",
       "      <th>4</th>\n",
       "      <td>5</td>\n",
       "      <td>3.9</td>\n",
       "      <td>-0.235702</td>\n",
       "      <td>1.185354e+00</td>\n",
       "    </tr>\n",
       "    <tr>\n",
       "      <th>5</th>\n",
       "      <td>6</td>\n",
       "      <td>4.1</td>\n",
       "      <td>0.235702</td>\n",
       "      <td>8.146461e-01</td>\n",
       "    </tr>\n",
       "    <tr>\n",
       "      <th>6</th>\n",
       "      <td>7</td>\n",
       "      <td>4.2</td>\n",
       "      <td>0.471405</td>\n",
       "      <td>6.394441e-01</td>\n",
       "    </tr>\n",
       "    <tr>\n",
       "      <th>7</th>\n",
       "      <td>8</td>\n",
       "      <td>3.8</td>\n",
       "      <td>-0.471405</td>\n",
       "      <td>1.360556e+00</td>\n",
       "    </tr>\n",
       "    <tr>\n",
       "      <th>8</th>\n",
       "      <td>9</td>\n",
       "      <td>3.7</td>\n",
       "      <td>-0.707107</td>\n",
       "      <td>1.517150e+00</td>\n",
       "    </tr>\n",
       "    <tr>\n",
       "      <th>9</th>\n",
       "      <td>10</td>\n",
       "      <td>4.6</td>\n",
       "      <td>1.414214</td>\n",
       "      <td>1.636220e-01</td>\n",
       "    </tr>\n",
       "    <tr>\n",
       "      <th>10</th>\n",
       "      <td>11</td>\n",
       "      <td>3.7</td>\n",
       "      <td>-0.707107</td>\n",
       "      <td>1.517150e+00</td>\n",
       "    </tr>\n",
       "    <tr>\n",
       "      <th>11</th>\n",
       "      <td>12</td>\n",
       "      <td>4.6</td>\n",
       "      <td>1.414214</td>\n",
       "      <td>1.636220e-01</td>\n",
       "    </tr>\n",
       "    <tr>\n",
       "      <th>12</th>\n",
       "      <td>13</td>\n",
       "      <td>4.0</td>\n",
       "      <td>0.000000</td>\n",
       "      <td>1.000000e+00</td>\n",
       "    </tr>\n",
       "    <tr>\n",
       "      <th>13</th>\n",
       "      <td>14</td>\n",
       "      <td>4.2</td>\n",
       "      <td>0.471405</td>\n",
       "      <td>6.394441e-01</td>\n",
       "    </tr>\n",
       "    <tr>\n",
       "      <th>14</th>\n",
       "      <td>15</td>\n",
       "      <td>3.8</td>\n",
       "      <td>-0.471405</td>\n",
       "      <td>1.360556e+00</td>\n",
       "    </tr>\n",
       "    <tr>\n",
       "      <th>15</th>\n",
       "      <td>16</td>\n",
       "      <td>4.4</td>\n",
       "      <td>0.942809</td>\n",
       "      <td>3.504040e-01</td>\n",
       "    </tr>\n",
       "    <tr>\n",
       "      <th>16</th>\n",
       "      <td>17</td>\n",
       "      <td>5.3</td>\n",
       "      <td>3.064129</td>\n",
       "      <td>3.543590e-03</td>\n",
       "    </tr>\n",
       "    <tr>\n",
       "      <th>17</th>\n",
       "      <td>18</td>\n",
       "      <td>6.1</td>\n",
       "      <td>4.949747</td>\n",
       "      <td>9.189353e-06</td>\n",
       "    </tr>\n",
       "    <tr>\n",
       "      <th>18</th>\n",
       "      <td>19</td>\n",
       "      <td>7.2</td>\n",
       "      <td>7.542472</td>\n",
       "      <td>9.626040e-10</td>\n",
       "    </tr>\n",
       "    <tr>\n",
       "      <th>19</th>\n",
       "      <td>20</td>\n",
       "      <td>6.5</td>\n",
       "      <td>5.892557</td>\n",
       "      <td>3.424837e-07</td>\n",
       "    </tr>\n",
       "  </tbody>\n",
       "</table>\n",
       "</div>"
      ],
      "text/plain": [
       "    Day  Mean Call Duration   t_value       p_value\n",
       "0     1                 3.7 -0.707107  1.517150e+00\n",
       "1     2                 4.1  0.235702  8.146461e-01\n",
       "2     3                 3.5 -1.178511  1.755716e+00\n",
       "3     4                 4.2  0.471405  6.394441e-01\n",
       "4     5                 3.9 -0.235702  1.185354e+00\n",
       "5     6                 4.1  0.235702  8.146461e-01\n",
       "6     7                 4.2  0.471405  6.394441e-01\n",
       "7     8                 3.8 -0.471405  1.360556e+00\n",
       "8     9                 3.7 -0.707107  1.517150e+00\n",
       "9    10                 4.6  1.414214  1.636220e-01\n",
       "10   11                 3.7 -0.707107  1.517150e+00\n",
       "11   12                 4.6  1.414214  1.636220e-01\n",
       "12   13                 4.0  0.000000  1.000000e+00\n",
       "13   14                 4.2  0.471405  6.394441e-01\n",
       "14   15                 3.8 -0.471405  1.360556e+00\n",
       "15   16                 4.4  0.942809  3.504040e-01\n",
       "16   17                 5.3  3.064129  3.543590e-03\n",
       "17   18                 6.1  4.949747  9.189353e-06\n",
       "18   19                 7.2  7.542472  9.626040e-10\n",
       "19   20                 6.5  5.892557  3.424837e-07"
      ]
     },
     "execution_count": 58,
     "metadata": {},
     "output_type": "execute_result"
    }
   ],
   "source": [
    "call_center_data"
   ]
  },
  {
   "cell_type": "code",
   "execution_count": 68,
   "id": "f2d5bdab-1240-44d4-a2f0-862622c23fa1",
   "metadata": {},
   "outputs": [],
   "source": [
    "# accepted or rejected \n",
    "\n",
    "\n",
    "call_center_data['status'] = np.where(call_center_data.p_value<0.05,'Reject H0','Accept H0')"
   ]
  },
  {
   "cell_type": "code",
   "execution_count": 72,
   "id": "188e0382-adc2-439a-88c3-c31825abc412",
   "metadata": {},
   "outputs": [],
   "source": [
    "call_center_data.to_csv(\"Hypotest_output.csv\")"
   ]
  },
  {
   "cell_type": "markdown",
   "id": "b343db4d-5c9a-4704-8376-9ce71ba7b71f",
   "metadata": {},
   "source": [
    "<h1>One Sample One Tail Example</h1>\n",
    "<img src=\"images\\\\hypo_test_1_sample_1_tail_example.png\" alt=\"image\" style=\"width: 500px;\"/>\n"
   ]
  },
  {
   "cell_type": "code",
   "execution_count": 81,
   "id": "a0ec5035-6a35-4d78-9eff-aca4a9d33aa1",
   "metadata": {},
   "outputs": [],
   "source": [
    "import pandas as pd\n",
    "from scipy import stats"
   ]
  },
  {
   "cell_type": "raw",
   "id": "6a680f6f-c695-46ce-821b-97e5fd523335",
   "metadata": {},
   "source": [
    "Here,\n",
    "\n",
    "H0 -> µ1 <= 0.3     # no evidence found \n",
    "H0A -> µ1 > 0.3   # evidence found, hence to close the factory"
   ]
  },
  {
   "cell_type": "code",
   "execution_count": 30,
   "id": "a47f9497-dace-4f73-a60b-24e9b0270a99",
   "metadata": {},
   "outputs": [],
   "source": [
    "#First we need to create a simple pandas series for given observations\n",
    "\n",
    "data=pd.Series([0.593, 0.142, 0.329, 0.691, 0.231, 0.793, 0.519, 0.392, 0.418])"
   ]
  },
  {
   "cell_type": "code",
   "execution_count": 32,
   "id": "15b49f7e-efbc-4da3-bb0e-71ca85cb427f",
   "metadata": {},
   "outputs": [
    {
     "data": {
      "text/plain": [
       "0    0.593\n",
       "1    0.142\n",
       "2    0.329\n",
       "3    0.691\n",
       "4    0.231\n",
       "5    0.793\n",
       "6    0.519\n",
       "7    0.392\n",
       "8    0.418\n",
       "dtype: float64"
      ]
     },
     "execution_count": 32,
     "metadata": {},
     "output_type": "execute_result"
    }
   ],
   "source": [
    "data"
   ]
  },
  {
   "cell_type": "code",
   "execution_count": 48,
   "id": "23cdf7e1-d02c-40f6-a8a7-7b30540967ab",
   "metadata": {},
   "outputs": [
    {
     "data": {
      "text/plain": [
       "TtestResult(statistic=2.2050588385131595, pvalue=0.05853032968489765, df=8)"
      ]
     },
     "execution_count": 48,
     "metadata": {},
     "output_type": "execute_result"
    }
   ],
   "source": [
    "p = stats.ttest_1samp(data,0.3)   # here population mean in 0.3\n",
    "p"
   ]
  },
  {
   "cell_type": "code",
   "execution_count": 50,
   "id": "85acba5b-eb47-4ae2-8ede-64d100c5811a",
   "metadata": {},
   "outputs": [],
   "source": [
    "# The value 'pvalue' is always calculated interanally considering the hypothesis is 2 tailed, \n",
    "# hence in order to get pvalue for one tail we need to devide the pvlaue by 2"
   ]
  },
  {
   "cell_type": "code",
   "execution_count": 66,
   "id": "b85324d3-ffc5-4c6a-ac5b-612f4206bd01",
   "metadata": {},
   "outputs": [
    {
     "data": {
      "text/plain": [
       "0.05853032968489765"
      ]
     },
     "execution_count": 66,
     "metadata": {},
     "output_type": "execute_result"
    }
   ],
   "source": [
    "# to obtain pvalue from test result tuple\n",
    "\n",
    "obtained_pvalue = p[1]\n",
    "obtained_pvalue"
   ]
  },
  {
   "cell_type": "code",
   "execution_count": 68,
   "id": "236ba4bb-ad8b-47ea-8643-38e24fe11e9a",
   "metadata": {},
   "outputs": [
    {
     "data": {
      "text/plain": [
       "0.029265164842448826"
      ]
     },
     "execution_count": 68,
     "metadata": {},
     "output_type": "execute_result"
    }
   ],
   "source": [
    "pvalue = obtained_pvalue/2    # as it is one tail hypotheses\n",
    "pvalue"
   ]
  },
  {
   "cell_type": "raw",
   "id": "a2d0fa84-34d8-46ed-a5a0-297f7a3c4aab",
   "metadata": {},
   "source": [
    "here, \n",
    "p = 0.02926 < 0.05  so reject null hypothesis i.e factory is causing the problem hence close it "
   ]
  },
  {
   "cell_type": "markdown",
   "id": "45eedc91-8dad-44fd-a72e-6ad3cf2030ef",
   "metadata": {},
   "source": [
    "<h1>Two Sample Two Tail Example</h1>\n",
    "<img src=\"images\\\\hypo_test_2_sample_2_tail_example.png\" alt=\"image\" width=\"500px\">"
   ]
  },
  {
   "cell_type": "raw",
   "id": "e108a258-0390-4c99-9e22-57266fc1d400",
   "metadata": {},
   "source": [
    "Here,\n",
    "\n",
    "H0 -> µ1 = µ2     # no effect of drug\n",
    "H0A -> µ1 != µ2    # there is effect of drug"
   ]
  },
  {
   "cell_type": "code",
   "execution_count": 71,
   "id": "be5be176-08bc-4b73-9557-18fd778c4f0d",
   "metadata": {},
   "outputs": [],
   "source": [
    "# Again need to covert into pandas serieses\n",
    "\n",
    "control = pd.Series([91,87,99,77,88,91])\n",
    "treat = pd.Series([101,110,103,93,99,104])"
   ]
  },
  {
   "cell_type": "code",
   "execution_count": 73,
   "id": "8de30fc0-2954-4ba2-b14a-978e52b5e117",
   "metadata": {},
   "outputs": [
    {
     "data": {
      "text/plain": [
       "TtestResult(statistic=-3.4456126735364876, pvalue=0.006272124350809803, df=10.0)"
      ]
     },
     "execution_count": 73,
     "metadata": {},
     "output_type": "execute_result"
    }
   ],
   "source": [
    "p = stats.ttest_ind(control,treat)   # t test independent\n",
    "p"
   ]
  },
  {
   "cell_type": "code",
   "execution_count": 75,
   "id": "26479edf-6ae8-449a-b1b0-9e507223f253",
   "metadata": {},
   "outputs": [],
   "source": [
    "# as it is 2 tailed hypotheses, the ontained pvalue will be actual pvalue"
   ]
  },
  {
   "cell_type": "code",
   "execution_count": 79,
   "id": "452340be-2dec-4feb-9901-00fa19e55f4b",
   "metadata": {},
   "outputs": [
    {
     "data": {
      "text/plain": [
       "0.006272124350809803"
      ]
     },
     "execution_count": 79,
     "metadata": {},
     "output_type": "execute_result"
    }
   ],
   "source": [
    "pvalue = p[1]\n",
    "pvalue"
   ]
  },
  {
   "cell_type": "raw",
   "id": "5da32728-a6ac-463f-af60-907484db9d71",
   "metadata": {},
   "source": [
    "here, \n",
    "p = 0.006272 < 0.05  so reject null hypothesis i.e significant effect of drug"
   ]
  },
  {
   "cell_type": "markdown",
   "id": "0293d648-364f-46f3-9782-c7fd3876ad61",
   "metadata": {},
   "source": [
    "<h1>2 Proportion t test</h1>\\\n",
    "<img src=\"images\\\\hypo_test_2_proportion_t_test.png\" alt=\"image\" width=\"500px\">"
   ]
  },
  {
   "cell_type": "raw",
   "id": "631617cf-9bdb-4671-be11-b36fc0dda8a3",
   "metadata": {},
   "source": [
    "Here,\n",
    "\n",
    "H0 -> p1 = p2     # no significant change in placement offers\n",
    "HA -> p1 != p2    # significant change in placement offers"
   ]
  },
  {
   "cell_type": "code",
   "execution_count": 88,
   "id": "b40efcf6-5d0a-4215-8e3c-17d6024e4d6e",
   "metadata": {},
   "outputs": [],
   "source": [
    "#Data: Placement Data example\n",
    "\n",
    "n1 = 247\n",
    "p1 = .37 # proportion is 0.37\n",
    "\n",
    "n2 = 308\n",
    "p2 = .39 # proportion is 0.39"
   ]
  },
  {
   "cell_type": "code",
   "execution_count": 90,
   "id": "3e43dbb7-3576-4b75-8068-4205989acb99",
   "metadata": {},
   "outputs": [],
   "source": [
    "# here to convert the data of 247 and 308 students we need to convert them into arrays as direct proportions cannot be put in formula"
   ]
  },
  {
   "cell_type": "code",
   "execution_count": 121,
   "id": "8931a748-0e30-48ef-b2d1-9a4ec5b40a76",
   "metadata": {},
   "outputs": [],
   "source": [
    "import numpy as np\n",
    "sample1 = np.random.binomial(1,p1,n1) "
   ]
  },
  {
   "cell_type": "code",
   "execution_count": 123,
   "id": "5e74911c-793f-4493-b21b-c4de1b8a030a",
   "metadata": {},
   "outputs": [
    {
     "data": {
      "text/plain": [
       "array([0, 0, 1, 0, 1, 0, 1, 0, 0, 0, 0, 0, 1, 0, 0, 0, 0, 0, 0, 1, 1, 1,\n",
       "       1, 0, 0, 1, 0, 0, 0, 1, 0, 0, 0, 0, 0, 0, 0, 0, 0, 1, 0, 1, 0, 0,\n",
       "       1, 0, 1, 1, 1, 0, 1, 1, 0, 0, 0, 0, 0, 0, 1, 1, 1, 0, 1, 0, 0, 0,\n",
       "       0, 1, 0, 1, 0, 0, 0, 0, 0, 0, 0, 0, 1, 0, 0, 0, 1, 0, 0, 0, 0, 0,\n",
       "       0, 1, 0, 1, 0, 0, 1, 0, 0, 1, 0, 0, 1, 1, 0, 0, 0, 0, 0, 1, 0, 1,\n",
       "       0, 1, 0, 0, 0, 0, 0, 1, 1, 0, 1, 0, 0, 1, 1, 1, 1, 0, 1, 0, 1, 1,\n",
       "       0, 1, 1, 0, 1, 0, 0, 1, 0, 0, 1, 1, 1, 0, 0, 0, 0, 0, 1, 1, 0, 0,\n",
       "       0, 0, 0, 1, 1, 1, 0, 1, 1, 1, 1, 0, 0, 0, 1, 0, 0, 1, 0, 0, 0, 0,\n",
       "       1, 0, 1, 0, 0, 0, 1, 0, 1, 0, 1, 1, 0, 0, 0, 0, 1, 1, 0, 0, 0, 0,\n",
       "       1, 0, 0, 0, 0, 0, 0, 0, 1, 0, 0, 0, 1, 0, 1, 1, 0, 0, 1, 0, 0, 0,\n",
       "       0, 0, 1, 0, 0, 0, 0, 0, 0, 1, 0, 1, 0, 0, 1, 1, 0, 0, 0, 0, 1, 0,\n",
       "       0, 0, 0, 1, 0])"
      ]
     },
     "execution_count": 123,
     "metadata": {},
     "output_type": "execute_result"
    }
   ],
   "source": [
    "sample1 # 247 student's data. 0-not placed, 1-placed"
   ]
  },
  {
   "cell_type": "code",
   "execution_count": 125,
   "id": "c2060afe-df78-42ad-b75c-1078742097e9",
   "metadata": {},
   "outputs": [
    {
     "data": {
      "text/plain": [
       "247"
      ]
     },
     "execution_count": 125,
     "metadata": {},
     "output_type": "execute_result"
    }
   ],
   "source": [
    "len(sample1)"
   ]
  },
  {
   "cell_type": "code",
   "execution_count": 127,
   "id": "3b8dc6e2-4476-4457-8c5d-244c763c6f89",
   "metadata": {},
   "outputs": [],
   "source": [
    "sample2 = np.random.binomial(1,p2,n2)"
   ]
  },
  {
   "cell_type": "code",
   "execution_count": 129,
   "id": "a44240d7-768e-41e7-b478-50f66ab7dd18",
   "metadata": {},
   "outputs": [
    {
     "data": {
      "text/plain": [
       "array([0, 0, 0, 1, 0, 1, 0, 0, 1, 0, 0, 0, 0, 0, 0, 1, 1, 0, 0, 0, 0, 1,\n",
       "       0, 1, 1, 0, 1, 0, 0, 1, 0, 1, 0, 1, 1, 1, 1, 0, 0, 0, 0, 0, 1, 0,\n",
       "       0, 1, 0, 1, 0, 0, 1, 0, 1, 1, 0, 0, 0, 1, 0, 0, 1, 1, 1, 1, 0, 0,\n",
       "       1, 0, 1, 1, 0, 0, 0, 1, 1, 0, 1, 0, 0, 1, 0, 1, 1, 0, 1, 0, 0, 0,\n",
       "       1, 0, 0, 1, 0, 1, 0, 0, 1, 1, 1, 0, 0, 1, 0, 1, 0, 0, 0, 1, 1, 1,\n",
       "       0, 0, 0, 1, 1, 1, 1, 1, 0, 0, 0, 0, 0, 1, 1, 1, 0, 0, 0, 1, 1, 0,\n",
       "       1, 1, 0, 1, 1, 0, 1, 0, 0, 0, 0, 0, 1, 1, 0, 0, 1, 1, 0, 1, 0, 1,\n",
       "       1, 0, 0, 0, 0, 0, 0, 1, 1, 0, 0, 0, 0, 0, 0, 0, 1, 0, 1, 0, 0, 1,\n",
       "       0, 0, 0, 0, 0, 0, 0, 0, 1, 1, 1, 1, 1, 0, 1, 0, 0, 0, 1, 0, 0, 0,\n",
       "       0, 0, 0, 1, 1, 0, 0, 1, 0, 1, 0, 0, 1, 1, 0, 1, 0, 0, 0, 1, 1, 1,\n",
       "       0, 0, 1, 0, 0, 0, 1, 0, 0, 0, 1, 0, 1, 0, 0, 0, 0, 1, 1, 1, 0, 0,\n",
       "       0, 0, 0, 0, 0, 1, 1, 0, 0, 0, 0, 1, 0, 1, 0, 1, 1, 0, 0, 1, 0, 0,\n",
       "       0, 1, 0, 1, 0, 1, 0, 0, 0, 0, 0, 1, 1, 1, 1, 0, 1, 0, 0, 0, 0, 0,\n",
       "       0, 0, 0, 0, 1, 0, 0, 0, 0, 0, 1, 0, 0, 1, 0, 1, 0, 0, 0, 1, 0, 0])"
      ]
     },
     "execution_count": 129,
     "metadata": {},
     "output_type": "execute_result"
    }
   ],
   "source": [
    "sample2 "
   ]
  },
  {
   "cell_type": "code",
   "execution_count": 131,
   "id": "4b16abdb-c4d0-4303-9c5b-a9602803167c",
   "metadata": {},
   "outputs": [
    {
     "data": {
      "text/plain": [
       "308"
      ]
     },
     "execution_count": 131,
     "metadata": {},
     "output_type": "execute_result"
    }
   ],
   "source": [
    "len(sample2)"
   ]
  },
  {
   "cell_type": "markdown",
   "id": "8c6bbebf-d056-45d9-9014-c487e16a9e47",
   "metadata": {},
   "source": [
    "for __proportion examples__, we need to import __statsmodels.api__ while the function is same as for 2 sample 2 tails"
   ]
  },
  {
   "cell_type": "code",
   "execution_count": 134,
   "id": "e1a9641b-a0d8-4eea-9ac0-b622486d2a65",
   "metadata": {},
   "outputs": [],
   "source": [
    "import statsmodels.api as sm"
   ]
  },
  {
   "cell_type": "code",
   "execution_count": 136,
   "id": "59f8eeec-06ac-4903-9921-917490ba018d",
   "metadata": {},
   "outputs": [
    {
     "data": {
      "text/plain": [
       "(-1.0463666097350166, 0.29584893903397813, 553.0)"
      ]
     },
     "execution_count": 136,
     "metadata": {},
     "output_type": "execute_result"
    }
   ],
   "source": [
    "p = sm.stats.ttest_ind(sample1,sample2)\n",
    "p"
   ]
  },
  {
   "cell_type": "code",
   "execution_count": 138,
   "id": "fdd48a04-afa6-4375-8df9-79ef8e0b97c5",
   "metadata": {},
   "outputs": [],
   "source": [
    "# the second value represents pvalue, that will vary after every new creation of sample arrays (as 0 and 1's positions changes)"
   ]
  },
  {
   "cell_type": "raw",
   "id": "b2035631-fe36-44a3-a7ea-6de232662c54",
   "metadata": {},
   "source": [
    "here, \n",
    "p = 0.2958>0.05  so accept null hypothesis i.e no significant change in placement opportunities in 2 states"
   ]
  }
 ],
 "metadata": {
  "kernelspec": {
   "display_name": "Python 3 (ipykernel)",
   "language": "python",
   "name": "python3"
  },
  "language_info": {
   "codemirror_mode": {
    "name": "ipython",
    "version": 3
   },
   "file_extension": ".py",
   "mimetype": "text/x-python",
   "name": "python",
   "nbconvert_exporter": "python",
   "pygments_lexer": "ipython3",
   "version": "3.12.4"
  }
 },
 "nbformat": 4,
 "nbformat_minor": 5
}
