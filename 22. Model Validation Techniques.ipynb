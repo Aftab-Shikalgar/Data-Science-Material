{
 "cells": [
  {
   "cell_type": "markdown",
   "id": "2ac3e44c-8c8b-4a3b-82cb-dab0994ccf51",
   "metadata": {},
   "source": [
    "# Model Validation Techniques\n"
   ]
  },
  {
   "cell_type": "markdown",
   "id": "96f0d798-4aef-46b6-8d44-8a4639e7ac5f",
   "metadata": {},
   "source": [
    "- Once we build the algorithm, we need to undestand how well the algorithms perform on unseen data\n",
    "- The __best way__ to evaluate the performance of an algorithm would be __to make predictions for new data to which you already know the answers__\n",
    "- The second best way is use clever techniques from statistics called __resampling methods__ that allow you to make accurate estimates for how<br>\n",
    "    well you algorithm will perform on new data"
   ]
  },
  {
   "cell_type": "raw",
   "id": "d0284b96-4faa-40e3-a2ee-3b87521e5935",
   "metadata": {},
   "source": [
    "Why can't you prepare you machine learning algorithm on your training dataset and use predictions from this same dataset to \n",
    "evaluate performance?\n",
    "\n",
    "The simple answer is OVERFITING"
   ]
  },
  {
   "cell_type": "markdown",
   "id": "c274a102-6bd3-45da-a19e-baed5a25f067",
   "metadata": {},
   "source": [
    "- Imagine an algorithm that remembers every observation is it shown during training.\n",
    "- If you evaluate your machine learning algorithm on the same dataset used to train the algorithm, then an algorithm like this would<br>\n",
    "    have a perfect score on the training dataset\n",
    "- But the predictions it made on new data would be terrible\n",
    "- We must evaluate our machine learning algorithms on data that is not used to train the algorithm\n",
    "    "
   ]
  },
  {
   "cell_type": "markdown",
   "id": "305f14dd-5d69-44ef-b56e-8a124072271d",
   "metadata": {},
   "source": [
    "__Once we estimate the perforrmance of our algorithm, we can then re-train the final algorithm on the entire training dataset and\n",
    "get it ready<br> for operational use__"
   ]
  },
  {
   "cell_type": "markdown",
   "id": "aa3f3961-4486-4612-b472-aa479bfcb70c",
   "metadata": {},
   "source": [
    "<div style=\"padding:20px;border:1px solid black\">\n",
    "<h4 style='line-height:1.5;color:blue'>We are going to look four different techniques that we can use to split up our training dataset and create useful estimates of <br>performance for our machine learning algorithms : </h4>\n",
    "\n",
    "- __Train and Test sets__\n",
    "- __k-fold Cross Validation__\n",
    "- __Leave One Out Cross Validation(LooCV)__\n",
    "  </div>"
   ]
  },
  {
   "cell_type": "markdown",
   "id": "ec58e7fa-3a28-41fd-89ab-bed1e385e8c8",
   "metadata": {},
   "source": [
    "<h2 style=\"color:limegreen\">Train_Test Split Approach - </h2>"
   ]
  },
  {
   "cell_type": "markdown",
   "id": "293e4503-d5da-4819-9db3-ef4d20040c12",
   "metadata": {},
   "source": [
    "- The __simplest method__ that we can use to evaluate the performance of a machine learning algorithm is __to use different training and testing datasets__.\n",
    "- We can take our original dataset and split it into two parts\n",
    "- Train the algorithm on the first part, make predictions on the second part and evaluate the predictions against the expected results.\n",
    "- The __size of split dataset can depend on the size and specifics of your dataset__, although it is common to __use 67% of the data for traning__ an the<br> remaining __33% for testing__\n",
    "- This algorithm evaluation technique is __very fast__\n",
    "- It is ideal for large datasets where there is strong evidence that both splits of the data are representative of the underlying problem"
   ]
  },
  {
   "cell_type": "markdown",
   "id": "c53f21ef-7b7a-44f3-ad56-673225298669",
   "metadata": {},
   "source": [
    "<h2 style=\"color:limegreen\">K-Fold Cross Validation - </h2>"
   ]
  },
  {
   "cell_type": "markdown",
   "id": "b4554c2f-45a1-40d1-989f-2580b888c3d4",
   "metadata": {},
   "source": [
    "__Cross-validation is an approach that you can use to estimate the performance of a machine learning algorithm with less variance than<br>\n",
    "    a single train-test set split__"
   ]
  },
  {
   "cell_type": "markdown",
   "id": "b1555f0d-f7a8-41e6-8097-d26b189cc9d1",
   "metadata": {},
   "source": [
    "- It works by splitting the dataset into k-parts\n",
    "- Each split of the data is called a __fold__\n",
    "- __The algorithm is trained on k-1 folds with one held back and tested on the held back fold__\n",
    "- This is repeated so that __each fold of the dataset is given a chance to be the held back test set__\n",
    "- After running cross-validation you end up with __k different performance scores__ that you can summarize using __mean and standard deviation__\n",
    "- The result is a more reliable estimate of the performance of the algorithm on new data\n",
    "- It's more accurate because the algorithm is trained and evaluated multiple times on different data"
   ]
  },
  {
   "cell_type": "raw",
   "id": "da4383e4-e54c-4a23-bbd9-173709adb080",
   "metadata": {},
   "source": [
    "The choice of k must allow the size of each test partition to be large enough to be a reasonable sample of the problem, whilst\n",
    "allowing enough repititions of the train-test evaluation of an algorithm to provide a fair estimate of the algorithms performance\n",
    "on unseen data"
   ]
  },
  {
   "cell_type": "markdown",
   "id": "e5f87ad9-0fd5-497f-9ef0-951cf6dcd8d0",
   "metadata": {},
   "source": [
    "<img src=\"images\\\\Validation_Techniques_D1.png\" alt=\"image\" width=\"800px\" border=\"2px\">"
   ]
  },
  {
   "cell_type": "markdown",
   "id": "7642c95a-e36c-4de1-a652-0c55f71f5e7d",
   "metadata": {},
   "source": [
    "<h2 style=\"color:limegreen\">Leave One Out Cross Validation(LooCV) - </h2>"
   ]
  },
  {
   "cell_type": "markdown",
   "id": "c6a355f2-f9bb-43ec-8d35-4135a49db131",
   "metadata": {},
   "source": [
    "__If the cross-validation is configured such that the size of the fold is 1 (k=no. of datapoints)__\n",
    "\n",
    "__This variation of cross-validation is called Leave One Out Cross Validation.__\n",
    "\n",
    "The result is a large number of performance measures that can be summarized"
   ]
  },
  {
   "cell_type": "markdown",
   "id": "f50864d3-5f4d-42da-9880-5d2f901cd8dc",
   "metadata": {},
   "source": [
    "____"
   ]
  },
  {
   "cell_type": "markdown",
   "id": "4525b4d6-bc7f-42fb-b4c1-123fc850d483",
   "metadata": {},
   "source": [
    "<h1 style=\"color:red\">Measuring The Model Accuracy</h1>"
   ]
  },
  {
   "cell_type": "markdown",
   "id": "d018ee23-bd6a-42d6-b4ff-772a89b29e69",
   "metadata": {},
   "source": [
    "<h2 style=\"color:dodgerblue\">Accuracy Measures for Regression Techniques - </h2>"
   ]
  },
  {
   "cell_type": "markdown",
   "id": "4b65ee50-5662-40ef-a33f-bc28d7dc0ac3",
   "metadata": {},
   "source": [
    "<img src=\"images\\\\Validation_Techniques_D2.png\" alt=\"image\" width=\"600px\" border=\"2px\">\n",
    "<img src=\"images\\\\Validation_Techniques_D3.png\" alt=\"image\" width=\"800px\" border=\"2px\">"
   ]
  },
  {
   "cell_type": "markdown",
   "id": "6fe4858d-5669-4d5f-8924-b2c625d005aa",
   "metadata": {},
   "source": [
    "<h2 style=\"color:dodgerblue\">Accuracy Measures for Classification Techniques - </h2>"
   ]
  },
  {
   "cell_type": "markdown",
   "id": "4df35ad4-a7da-4ee0-82e3-b67fd61bb1cb",
   "metadata": {},
   "source": [
    "<div style=\"display:flex\">\n",
    "<img src=\"images\\\\Validation_Techniques_D4.png\" alt=\"image\" width=\"40%\" border=\"2px\">\n",
    "<img src=\"images\\\\Validation_Techniques_D5.png\" alt=\"image\" width=\"40%\" border=\"2px\">\n",
    "</div>"
   ]
  },
  {
   "cell_type": "markdown",
   "id": "015729e2-7280-4d58-b083-eb124445a0a9",
   "metadata": {},
   "source": [
    "# Example Code"
   ]
  },
  {
   "cell_type": "code",
   "execution_count": 187,
   "id": "45e2a45d-ca72-472a-906e-cb629202c5b2",
   "metadata": {},
   "outputs": [],
   "source": [
    "\n",
    "import pandas as pd\n",
    "import warnings\n",
    "warnings.filterwarnings('ignore')\n",
    "\n",
    "from sklearn.linear_model import LogisticRegression"
   ]
  },
  {
   "cell_type": "code",
   "execution_count": 188,
   "id": "da6fcb71-c1ca-45a4-9d25-ede677f2609d",
   "metadata": {},
   "outputs": [],
   "source": [
    "# Getting the things ready\n",
    "\n",
    "names = ['preg', 'plas', 'pres', 'skin', 'test', 'mass', 'pedi', 'age', 'class']  # dataset doesn't have column names\n",
    "df = pd.read_csv(\"Datasets\\\\pima-indians-diabetes.data.csv\",names=names)\n",
    "\n",
    "X = df.iloc[:,0:8]\n",
    "y = df.iloc[:,8]      # dependent column\n"
   ]
  },
  {
   "cell_type": "code",
   "execution_count": 189,
   "id": "88468f26-3783-4744-8fe8-6c9b33b61de4",
   "metadata": {},
   "outputs": [
    {
     "data": {
      "text/html": [
       "<div>\n",
       "<style scoped>\n",
       "    .dataframe tbody tr th:only-of-type {\n",
       "        vertical-align: middle;\n",
       "    }\n",
       "\n",
       "    .dataframe tbody tr th {\n",
       "        vertical-align: top;\n",
       "    }\n",
       "\n",
       "    .dataframe thead th {\n",
       "        text-align: right;\n",
       "    }\n",
       "</style>\n",
       "<table border=\"1\" class=\"dataframe\">\n",
       "  <thead>\n",
       "    <tr style=\"text-align: right;\">\n",
       "      <th></th>\n",
       "      <th>preg</th>\n",
       "      <th>plas</th>\n",
       "      <th>pres</th>\n",
       "      <th>skin</th>\n",
       "      <th>test</th>\n",
       "      <th>mass</th>\n",
       "      <th>pedi</th>\n",
       "      <th>age</th>\n",
       "    </tr>\n",
       "  </thead>\n",
       "  <tbody>\n",
       "    <tr>\n",
       "      <th>0</th>\n",
       "      <td>6</td>\n",
       "      <td>148</td>\n",
       "      <td>72</td>\n",
       "      <td>35</td>\n",
       "      <td>0</td>\n",
       "      <td>33.6</td>\n",
       "      <td>0.627</td>\n",
       "      <td>50</td>\n",
       "    </tr>\n",
       "    <tr>\n",
       "      <th>1</th>\n",
       "      <td>1</td>\n",
       "      <td>85</td>\n",
       "      <td>66</td>\n",
       "      <td>29</td>\n",
       "      <td>0</td>\n",
       "      <td>26.6</td>\n",
       "      <td>0.351</td>\n",
       "      <td>31</td>\n",
       "    </tr>\n",
       "    <tr>\n",
       "      <th>2</th>\n",
       "      <td>8</td>\n",
       "      <td>183</td>\n",
       "      <td>64</td>\n",
       "      <td>0</td>\n",
       "      <td>0</td>\n",
       "      <td>23.3</td>\n",
       "      <td>0.672</td>\n",
       "      <td>32</td>\n",
       "    </tr>\n",
       "    <tr>\n",
       "      <th>3</th>\n",
       "      <td>1</td>\n",
       "      <td>89</td>\n",
       "      <td>66</td>\n",
       "      <td>23</td>\n",
       "      <td>94</td>\n",
       "      <td>28.1</td>\n",
       "      <td>0.167</td>\n",
       "      <td>21</td>\n",
       "    </tr>\n",
       "    <tr>\n",
       "      <th>4</th>\n",
       "      <td>0</td>\n",
       "      <td>137</td>\n",
       "      <td>40</td>\n",
       "      <td>35</td>\n",
       "      <td>168</td>\n",
       "      <td>43.1</td>\n",
       "      <td>2.288</td>\n",
       "      <td>33</td>\n",
       "    </tr>\n",
       "    <tr>\n",
       "      <th>...</th>\n",
       "      <td>...</td>\n",
       "      <td>...</td>\n",
       "      <td>...</td>\n",
       "      <td>...</td>\n",
       "      <td>...</td>\n",
       "      <td>...</td>\n",
       "      <td>...</td>\n",
       "      <td>...</td>\n",
       "    </tr>\n",
       "    <tr>\n",
       "      <th>763</th>\n",
       "      <td>10</td>\n",
       "      <td>101</td>\n",
       "      <td>76</td>\n",
       "      <td>48</td>\n",
       "      <td>180</td>\n",
       "      <td>32.9</td>\n",
       "      <td>0.171</td>\n",
       "      <td>63</td>\n",
       "    </tr>\n",
       "    <tr>\n",
       "      <th>764</th>\n",
       "      <td>2</td>\n",
       "      <td>122</td>\n",
       "      <td>70</td>\n",
       "      <td>27</td>\n",
       "      <td>0</td>\n",
       "      <td>36.8</td>\n",
       "      <td>0.340</td>\n",
       "      <td>27</td>\n",
       "    </tr>\n",
       "    <tr>\n",
       "      <th>765</th>\n",
       "      <td>5</td>\n",
       "      <td>121</td>\n",
       "      <td>72</td>\n",
       "      <td>23</td>\n",
       "      <td>112</td>\n",
       "      <td>26.2</td>\n",
       "      <td>0.245</td>\n",
       "      <td>30</td>\n",
       "    </tr>\n",
       "    <tr>\n",
       "      <th>766</th>\n",
       "      <td>1</td>\n",
       "      <td>126</td>\n",
       "      <td>60</td>\n",
       "      <td>0</td>\n",
       "      <td>0</td>\n",
       "      <td>30.1</td>\n",
       "      <td>0.349</td>\n",
       "      <td>47</td>\n",
       "    </tr>\n",
       "    <tr>\n",
       "      <th>767</th>\n",
       "      <td>1</td>\n",
       "      <td>93</td>\n",
       "      <td>70</td>\n",
       "      <td>31</td>\n",
       "      <td>0</td>\n",
       "      <td>30.4</td>\n",
       "      <td>0.315</td>\n",
       "      <td>23</td>\n",
       "    </tr>\n",
       "  </tbody>\n",
       "</table>\n",
       "<p>768 rows × 8 columns</p>\n",
       "</div>"
      ],
      "text/plain": [
       "     preg  plas  pres  skin  test  mass   pedi  age\n",
       "0       6   148    72    35     0  33.6  0.627   50\n",
       "1       1    85    66    29     0  26.6  0.351   31\n",
       "2       8   183    64     0     0  23.3  0.672   32\n",
       "3       1    89    66    23    94  28.1  0.167   21\n",
       "4       0   137    40    35   168  43.1  2.288   33\n",
       "..    ...   ...   ...   ...   ...   ...    ...  ...\n",
       "763    10   101    76    48   180  32.9  0.171   63\n",
       "764     2   122    70    27     0  36.8  0.340   27\n",
       "765     5   121    72    23   112  26.2  0.245   30\n",
       "766     1   126    60     0     0  30.1  0.349   47\n",
       "767     1    93    70    31     0  30.4  0.315   23\n",
       "\n",
       "[768 rows x 8 columns]"
      ]
     },
     "execution_count": 189,
     "metadata": {},
     "output_type": "execute_result"
    }
   ],
   "source": [
    "X"
   ]
  },
  {
   "cell_type": "markdown",
   "id": "36fb6e44-e010-4cf7-b6dd-9d8aa886ef44",
   "metadata": {},
   "source": [
    "<h3 style='color:orange'>Evaluate Using Train Test Split -</h3>"
   ]
  },
  {
   "cell_type": "code",
   "execution_count": 191,
   "id": "ae751405-d9e5-43c5-a598-5f2ffa1cdab9",
   "metadata": {},
   "outputs": [],
   "source": [
    "from sklearn.model_selection import train_test_split"
   ]
  },
  {
   "cell_type": "code",
   "execution_count": 192,
   "id": "00185f53-8770-482e-a952-9288927c497f",
   "metadata": {},
   "outputs": [],
   "source": [
    "X_train, X_test, y_train, y_test = train_test_split(X,y,test_size=0.33,random_state=7)\n",
    "\n",
    "model = LogisticRegression()\n",
    "model.fit(X_train,y_train)\n",
    "result = model.score(X_test,y_test)    # Get accuracy directly"
   ]
  },
  {
   "cell_type": "code",
   "execution_count": 193,
   "id": "18c27e3f-78bb-46b0-a0e4-fb99b45be134",
   "metadata": {},
   "outputs": [
    {
     "data": {
      "text/plain": [
       "0.7874015748031497"
      ]
     },
     "execution_count": 193,
     "metadata": {},
     "output_type": "execute_result"
    }
   ],
   "source": [
    "result   # 78.74% accuracy"
   ]
  },
  {
   "cell_type": "markdown",
   "id": "7c768044-4888-441a-80b9-0d2c67fd4d0e",
   "metadata": {},
   "source": [
    "<h3 style='color:orange'>Evaluate Using K-Fold Cross Validation -</h3>"
   ]
  },
  {
   "cell_type": "code",
   "execution_count": 195,
   "id": "e0ab5894-bac0-4e36-98fd-b28977e16702",
   "metadata": {},
   "outputs": [],
   "source": [
    "from sklearn.model_selection import KFold\n",
    "from sklearn.model_selection import cross_val_score     # to calculate accuracy"
   ]
  },
  {
   "cell_type": "code",
   "execution_count": 196,
   "id": "e395f77f-2e27-4435-b132-7dc0b189ff4b",
   "metadata": {},
   "outputs": [],
   "source": [
    "num_folds = 10   # k-value\n",
    "\n",
    "kfold = KFold(n_splits=num_folds)  # 10 splits or folds\n",
    "\n",
    "model = LogisticRegression(max_iter=200)  # default max_iter=100\n",
    "\n",
    "result = cross_val_score(model,X,y,cv=kfold)    # does have .fit() in it"
   ]
  },
  {
   "cell_type": "code",
   "execution_count": 197,
   "id": "fce80a46-36e6-4763-a769-07a3eb2b10a4",
   "metadata": {},
   "outputs": [
    {
     "data": {
      "text/plain": [
       "array([0.68831169, 0.81818182, 0.76623377, 0.68831169, 0.77922078,\n",
       "       0.79220779, 0.84415584, 0.83116883, 0.75      , 0.80263158])"
      ]
     },
     "execution_count": 197,
     "metadata": {},
     "output_type": "execute_result"
    }
   ],
   "source": [
    "result    # Accuracy of 10 models"
   ]
  },
  {
   "cell_type": "code",
   "execution_count": 198,
   "id": "6733248b-15bc-485f-be33-369058118e3b",
   "metadata": {},
   "outputs": [
    {
     "data": {
      "text/plain": [
       "0.7760423786739576"
      ]
     },
     "execution_count": 198,
     "metadata": {},
     "output_type": "execute_result"
    }
   ],
   "source": [
    "result.mean()    # 77.60% accuracy"
   ]
  },
  {
   "cell_type": "markdown",
   "id": "740ce936-c689-4f6f-b10f-4e610719506b",
   "metadata": {},
   "source": [
    "<h3 style='color:orange'>Evaluate Using Leave One Out Cross Validation -</h3>"
   ]
  },
  {
   "cell_type": "code",
   "execution_count": 200,
   "id": "14e88e11-5dc0-4c9a-a0a2-337209322981",
   "metadata": {},
   "outputs": [],
   "source": [
    "from sklearn.model_selection import LeaveOneOut\n",
    "from sklearn.model_selection import cross_val_score    # already imported for accuracy calculation"
   ]
  },
  {
   "cell_type": "code",
   "execution_count": 213,
   "id": "345fe5bc-b520-440c-8681-00832f782b23",
   "metadata": {},
   "outputs": [],
   "source": [
    "loocv = LeaveOneOut()\n",
    "\n",
    "model = LogisticRegression(max_iter=300) # default max_iter=100\n",
    "\n",
    "result = cross_val_score(model,X,y,cv=loocv)"
   ]
  },
  {
   "cell_type": "code",
   "execution_count": 217,
   "id": "34625cdd-fbe9-490a-a984-50bb1bcbba66",
   "metadata": {},
   "outputs": [
    {
     "data": {
      "text/plain": [
       "array([1., 1., 1., 1., 1., 1., 0., 0., 1., 0., 1., 1., 0., 1., 1., 0., 0.,\n",
       "       0., 1., 0., 1., 1., 1., 0., 1., 0., 1., 1., 0., 1., 1., 1., 1., 1.,\n",
       "       1., 1., 0., 0., 0., 1., 0., 0., 1., 1., 0., 1., 1., 1., 0., 1., 1.,\n",
       "       1., 1., 1., 0., 1., 1., 1., 0., 1., 1., 1., 1., 1., 0., 1., 0., 1.,\n",
       "       1., 1., 0., 1., 1., 1., 1., 1., 1., 1., 1., 1., 1., 1., 1., 1., 1.,\n",
       "       1., 0., 1., 1., 1., 1., 1., 1., 0., 1., 0., 1., 1., 1., 0., 1., 1.,\n",
       "       1., 1., 1., 1., 1., 1., 1., 0., 1., 1., 1., 1., 1., 1., 0., 1., 1.,\n",
       "       1., 1., 1., 1., 1., 0., 1., 1., 1., 0., 0., 1., 1., 1., 1., 1., 1.,\n",
       "       1., 1., 1., 1., 1., 1., 1., 0., 1., 1., 1., 1., 0., 1., 1., 1., 1.,\n",
       "       0., 1., 1., 1., 1., 1., 1., 1., 1., 1., 1., 0., 0., 1., 1., 1., 1.,\n",
       "       0., 1., 1., 1., 1., 1., 1., 1., 0., 1., 1., 1., 1., 1., 1., 1., 1.,\n",
       "       0., 0., 0., 1., 1., 1., 1., 1., 1., 1., 0., 0., 0., 1., 1., 1., 1.,\n",
       "       1., 1., 1., 1., 1., 1., 1., 0., 0., 1., 0., 1., 0., 1., 0., 0., 1.,\n",
       "       1., 1., 0., 1., 1., 1., 1., 0., 1., 1., 1., 1., 1., 1., 1., 1., 1.,\n",
       "       1., 1., 1., 1., 0., 0., 1., 1., 1., 0., 1., 1., 1., 1., 1., 1., 0.,\n",
       "       0., 1., 1., 0., 1., 0., 1., 1., 0., 0., 1., 1., 0., 1., 1., 1., 1.,\n",
       "       1., 1., 0., 1., 0., 1., 1., 1., 0., 0., 1., 1., 0., 1., 0., 0., 1.,\n",
       "       1., 1., 0., 1., 0., 1., 0., 0., 1., 0., 1., 1., 0., 1., 1., 1., 1.,\n",
       "       1., 1., 0., 0., 1., 1., 0., 1., 1., 1., 1., 1., 1., 1., 1., 0., 0.,\n",
       "       1., 1., 1., 0., 0., 0., 1., 1., 1., 1., 1., 1., 0., 0., 0., 1., 1.,\n",
       "       1., 1., 1., 1., 1., 0., 1., 1., 1., 0., 1., 1., 1., 1., 1., 1., 0.,\n",
       "       1., 1., 1., 1., 0., 1., 1., 1., 1., 0., 1., 1., 0., 1., 1., 1., 1.,\n",
       "       1., 1., 1., 1., 1., 1., 1., 1., 1., 1., 1., 1., 0., 0., 0., 1., 1.,\n",
       "       1., 1., 1., 1., 1., 1., 0., 1., 1., 0., 1., 0., 1., 1., 0., 0., 1.,\n",
       "       1., 1., 1., 1., 0., 1., 0., 1., 1., 1., 1., 0., 1., 1., 1., 1., 1.,\n",
       "       1., 1., 1., 1., 0., 1., 1., 1., 1., 1., 1., 0., 1., 1., 1., 1., 1.,\n",
       "       1., 0., 0., 1., 1., 1., 0., 1., 1., 0., 1., 1., 1., 1., 1., 1., 1.,\n",
       "       0., 1., 1., 1., 1., 1., 1., 1., 1., 1., 0., 0., 1., 1., 1., 1., 1.,\n",
       "       0., 1., 1., 1., 1., 1., 1., 1., 1., 0., 1., 0., 1., 0., 1., 1., 1.,\n",
       "       0., 1., 0., 1., 1., 1., 0., 1., 1., 0., 1., 1., 1., 1., 1., 1., 1.,\n",
       "       0., 1., 1., 1., 1., 1., 1., 0., 1., 1., 1., 1., 1., 1., 1., 1., 1.,\n",
       "       1., 1., 1., 1., 1., 1., 1., 1., 1., 1., 1., 1., 0., 0., 0., 0., 1.,\n",
       "       1., 1., 1., 1., 0., 0., 1., 1., 1., 1., 1., 1., 1., 1., 0., 1., 0.,\n",
       "       1., 1., 1., 1., 1., 1., 1., 0., 0., 1., 1., 1., 1., 1., 1., 1., 0.,\n",
       "       1., 1., 1., 1., 1., 1., 0., 1., 1., 1., 1., 1., 1., 1., 0., 1., 1.,\n",
       "       1., 1., 1., 1., 1., 1., 1., 1., 1., 1., 1., 1., 1., 1., 1., 1., 1.,\n",
       "       1., 1., 1., 1., 1., 1., 0., 0., 1., 1., 0., 1., 1., 1., 1., 1., 1.,\n",
       "       1., 0., 1., 1., 1., 1., 0., 1., 1., 0., 1., 1., 1., 0., 1., 1., 0.,\n",
       "       0., 1., 0., 1., 1., 1., 1., 1., 1., 0., 1., 1., 0., 0., 0., 1., 1.,\n",
       "       1., 0., 1., 1., 0., 1., 0., 0., 1., 1., 0., 1., 1., 1., 1., 0., 1.,\n",
       "       1., 1., 1., 0., 1., 1., 1., 1., 1., 1., 1., 1., 1., 1., 1., 0., 1.,\n",
       "       1., 1., 0., 1., 0., 1., 0., 1., 1., 0., 1., 1., 0., 1., 1., 1., 1.,\n",
       "       1., 1., 1., 1., 1., 0., 1., 1., 0., 1., 1., 1., 1., 1., 1., 1., 0.,\n",
       "       0., 1., 1., 1., 1., 1., 1., 1., 0., 1., 1., 1., 1., 0., 1., 1., 1.,\n",
       "       1., 1., 1., 1., 1., 1., 1., 0., 1., 0., 1., 1., 1., 1., 1., 1., 1.,\n",
       "       1., 0., 1.])"
      ]
     },
     "execution_count": 217,
     "metadata": {},
     "output_type": "execute_result"
    }
   ],
   "source": [
    "result   # accuracy of 100 models"
   ]
  },
  {
   "cell_type": "code",
   "execution_count": 225,
   "id": "882ae5ea-81dd-461f-8831-2d47cb9950e2",
   "metadata": {},
   "outputs": [
    {
     "data": {
      "text/plain": [
       "0.7760416666666666"
      ]
     },
     "execution_count": 225,
     "metadata": {},
     "output_type": "execute_result"
    }
   ],
   "source": [
    "result.mean()    # 77.60% accuracy"
   ]
  },
  {
   "cell_type": "code",
   "execution_count": 227,
   "id": "60e82e05-816c-4710-ae50-44539387c37c",
   "metadata": {},
   "outputs": [
    {
     "data": {
      "text/plain": [
       "(768, 8)"
      ]
     },
     "execution_count": 227,
     "metadata": {},
     "output_type": "execute_result"
    }
   ],
   "source": [
    "X.shape"
   ]
  },
  {
   "cell_type": "code",
   "execution_count": 233,
   "id": "c8552c18-e622-4ffc-87ea-40c84f7694fc",
   "metadata": {},
   "outputs": [
    {
     "data": {
      "text/plain": [
       "41.68944689773287"
      ]
     },
     "execution_count": 233,
     "metadata": {},
     "output_type": "execute_result"
    }
   ],
   "source": [
    "result.std()*100.0\n",
    "# Here accuracy is either 0% or 100% as y is categorical with only 2 possible outputs, so we are getting high std.\n",
    "# So don't consider Std. here"
   ]
  },
  {
   "cell_type": "code",
   "execution_count": 235,
   "id": "25463a21-8e84-4527-996e-75f2d101bd7e",
   "metadata": {},
   "outputs": [
    {
     "data": {
      "text/plain": [
       "50.0"
      ]
     },
     "execution_count": 235,
     "metadata": {},
     "output_type": "execute_result"
    }
   ],
   "source": [
    "import numpy as np\n",
    "np.array([100,100,0,0]).std() # check std of values 100 and 0: How far each data point is from mean is std."
   ]
  }
 ],
 "metadata": {
  "kernelspec": {
   "display_name": "Python 3 (ipykernel)",
   "language": "python",
   "name": "python3"
  },
  "language_info": {
   "codemirror_mode": {
    "name": "ipython",
    "version": 3
   },
   "file_extension": ".py",
   "mimetype": "text/x-python",
   "name": "python",
   "nbconvert_exporter": "python",
   "pygments_lexer": "ipython3",
   "version": "3.12.4"
  }
 },
 "nbformat": 4,
 "nbformat_minor": 5
}
