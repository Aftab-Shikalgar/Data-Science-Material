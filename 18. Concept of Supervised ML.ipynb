{
 "cells": [
  {
   "cell_type": "markdown",
   "id": "c1536eb7-4835-4450-a176-f06cfd2d2c8d",
   "metadata": {},
   "source": [
    "# Data Mining - Supervised Machine Learning"
   ]
  },
  {
   "cell_type": "markdown",
   "id": "fe5d4a5a-12a2-47e0-ac00-184f60c1646b",
   "metadata": {},
   "source": [
    "<img src=\"images\\\\Data_Mining_D1.png\" alt=\"image\" width=\"500px\" border='1px' style='padding:20px'>"
   ]
  },
  {
   "cell_type": "markdown",
   "id": "b22d148e-1018-42ab-bcbf-f2c8b4fbd217",
   "metadata": {},
   "source": [
    "<h1 style=\"color:red\">Data -</h1>"
   ]
  },
  {
   "cell_type": "markdown",
   "id": "cc12e2e3-ba4c-415b-b122-4471489a4d6c",
   "metadata": {},
   "source": [
    "<img src=\"images\\\\Data_Mining_D2.png\" alt=\"image\" width=\"300px\" border='1px' style='padding:20px'>"
   ]
  },
  {
   "cell_type": "markdown",
   "id": "b31e42fb-a692-44cc-9b5d-e0d5dcc1d11e",
   "metadata": {},
   "source": [
    "<h2 style=\"color:limegreen\">Data Nuances -</h2>\n",
    "<img src=\"images\\\\Data_Mining_D3.png\" alt=\"image\" width=\"500px\" border='1px' style='padding:20px'>"
   ]
  },
  {
   "cell_type": "markdown",
   "id": "0b2c5d1a-e02d-4add-8bed-ebc671fdecc6",
   "metadata": {},
   "source": [
    "<h2 style=\"color:limegreen\">Not Normal Distributions! -</h2>\n",
    "<img src=\"images\\\\Data_Mining_D4.png\" alt=\"image\" width=\"500px\" border='1px' style='padding:20px'>"
   ]
  },
  {
   "cell_type": "code",
   "execution_count": 24,
   "id": "6ec759ae-4ea5-43a8-a554-99c96b6116a1",
   "metadata": {},
   "outputs": [],
   "source": [
    "# taking log of feature make the data normally distributed"
   ]
  },
  {
   "cell_type": "markdown",
   "id": "9119d59b-6a62-4776-a9d1-50883aac28dd",
   "metadata": {},
   "source": [
    "<h1 style=\"color:red\">Feature Engineering -</h1>\n",
    "\n",
    "\n",
    "<img src=\"images\\\\Data_Mining_D5.png\" alt=\"image\" width=\"300px\" border='1px' style='padding:20px'>"
   ]
  },
  {
   "cell_type": "markdown",
   "id": "4d79deb2-f53c-4886-8bdd-fa430296f729",
   "metadata": {},
   "source": [
    "- __Feature engineering is the process of transforming raw data into a format that machine learning (ML) models can use to make predictions__\n",
    "- Includes couple of approaches-\n",
    "  - Extracting only important or significant featured out of available features\n",
    "  - Deriving new feautures from existing ones to reduce the number of features\n",
    " \n",
    "____"
   ]
  },
  {
   "cell_type": "markdown",
   "id": "e6cb5100-a2f7-417c-9d6d-1b03bf2f2a95",
   "metadata": {},
   "source": [
    "<h2 style=\"color:limegreen\">Two Mindsets of Modeling -</h2>"
   ]
  },
  {
   "cell_type": "markdown",
   "id": "0378ccc0-9c66-44b0-b370-850c818ca40c",
   "metadata": {},
   "source": [
    "<img src=\"images\\\\Data_Mining_D6.png\" alt=\"image\" width=\"500px\" border='1px' style='padding:20px'>"
   ]
  },
  {
   "cell_type": "markdown",
   "id": "713751cf-aa0c-4fca-994d-4b7830263523",
   "metadata": {},
   "source": [
    "<img src=\"images\\\\Data_Mining_D7.png\" alt=\"image\" width=\"500px\" border='1px' style='padding:20px'>"
   ]
  },
  {
   "cell_type": "markdown",
   "id": "5321025f-8f19-4488-83a6-0632e2760981",
   "metadata": {},
   "source": [
    "<h1 style=\"color:red\">Model Building -</h1>"
   ]
  },
  {
   "cell_type": "markdown",
   "id": "36bdc070-3904-49d0-8f1a-1ef8fc05d877",
   "metadata": {},
   "source": [
    "<img src=\"images\\\\Data_Mining_D8.png\" alt=\"image\" width=\"300px\" border='1px' style='padding:20px'>"
   ]
  },
  {
   "cell_type": "markdown",
   "id": "19255629-0bad-4cd8-9001-3e5c031f8b96",
   "metadata": {},
   "source": [
    "<h2 style=\"color:limegreen\">Data Split for Model Building -</h2>\n",
    "\n",
    "\n",
    "- __Training data set__: Use this set for model training, 70-80% of the data is standard for training\n",
    "- __Validation/development data set__: Use this set for model hyper parameter tuning, 10-15% is the standard\n",
    "- __Test data set__: Use this set for model testing and comparison, 10-15% of the data is standard"
   ]
  },
  {
   "cell_type": "markdown",
   "id": "e534cdae-e57a-4e26-9478-75d3d4ed6ad0",
   "metadata": {},
   "source": [
    "  "
   ]
  },
  {
   "cell_type": "markdown",
   "id": "01bf58d4-9533-4c02-b3d9-0c2a88e29b1c",
   "metadata": {},
   "source": [
    "  "
   ]
  },
  {
   "cell_type": "markdown",
   "id": "7c7abe35-c7d9-4431-a484-e85d492eb9d2",
   "metadata": {},
   "source": [
    "# What is classification?\n",
    "\n",
    "<h4 style=\"color:orange\">Partitioning the feature space into pure regions assigned to each class</h4>"
   ]
  },
  {
   "cell_type": "code",
   "execution_count": 69,
   "id": "4706fe87-ecf5-4a12-bc1c-ec07392f1c7e",
   "metadata": {},
   "outputs": [],
   "source": [
    "# The line diving clusters is known as decision boundary"
   ]
  },
  {
   "cell_type": "markdown",
   "id": "57211432-8a3a-4f32-9af8-1cb8fe9ef911",
   "metadata": {},
   "source": [
    "<img src=\"images\\\\Data_Mining_D9.png\" alt=\"image\" width=\"500px\" border='1px' style='padding:20px'>"
   ]
  },
  {
   "cell_type": "markdown",
   "id": "0208678a-e71e-416f-a4f7-036a7d28e3aa",
   "metadata": {},
   "source": [
    "<h2 style=\"color:limegreen\">Types of Decision Boundary -</h2>\n"
   ]
  },
  {
   "cell_type": "code",
   "execution_count": 81,
   "id": "7765d4a9-5a74-4b57-8df2-d7e47f24f26d",
   "metadata": {},
   "outputs": [],
   "source": [
    "# has 3 types"
   ]
  },
  {
   "cell_type": "markdown",
   "id": "0a0b85a1-11b5-4071-a776-501244d7a8a0",
   "metadata": {},
   "source": [
    "<div>\n",
    "<img src=\"images\\\\Data_Mining_DB1.png\" alt=\"image\" border='1px' width=\"40%\"> \n",
    "<img src=\"images\\\\Data_Mining_DB2.png\" alt=\"image\" border='1px' width=\"40%\"> \n",
    "<img src=\"images\\\\Data_Mining_DB3.png\" alt=\"image\" border='1px' width=\"40%\"> \n",
    "<img src=\"images\\\\Data_Mining_DB4.png\" alt=\"image\" border='1px' width=\"40%\"> \n",
    "</div>"
   ]
  },
  {
   "cell_type": "markdown",
   "id": "629871ae-9176-4c6d-904d-104b7a23e6e1",
   "metadata": {},
   "source": [
    "- In case of __simple decision boundary__, we can say it is underfitted as it's not divided properly\n",
    "- In case of __complex decision boundary__, while training the accuracy will be 100%, but at the time of testing the\n",
    "  datapoint may lie in small circles, which will result in wrong predictions. This results in less accuracy, hence this\n",
    "  model is __overfitted__\n",
    "\n",
    "____"
   ]
  },
  {
   "cell_type": "markdown",
   "id": "975c16ad-b846-471b-90b5-e13c8dae4f87",
   "metadata": {},
   "source": [
    "<div>\n",
    "<img src=\"images\\\\Data_Mining_D10.png\" alt=\"image\" border='1px' width=\"40%\"> \n",
    "<img src=\"images\\\\Data_Mining_D11.png\" alt=\"image\" border='1px' width=\"40%\"> \n",
    "    \n",
    "</div>"
   ]
  },
  {
   "cell_type": "markdown",
   "id": "b68b6e2d-7ec7-41fd-a4fe-9a820f287fc3",
   "metadata": {},
   "source": [
    "<h2 style=\"color:limegreen\">Classification: Steps -</h2>\n",
    "\n",
    "\n",
    "- __Given a collection of records__, where each record contains set of attributes and one of the attributes is the class\n",
    "- __Task__: Find a model for class attribute as a function of the values of other attributes\n",
    "- __Goal__: Previously unseen records should be assigned a class as accurately as possible\n",
    "- A test set is used to determine accuracy of the model. Generally, given dataset is divided into training and testing set.\n",
    "  Training set to build the model and testing set to validate"
   ]
  },
  {
   "cell_type": "markdown",
   "id": "ff87fc24-d58e-43f5-84c5-269a05d30319",
   "metadata": {},
   "source": [
    "<h2 style=\"color:limegreen\">Illustrating Classification Task -</h2>\n",
    "\n",
    "<img src=\"images\\\\Data_Mining_D12.png\" alt=\"image\" border='1px' width=\"500px\"> "
   ]
  },
  {
   "cell_type": "markdown",
   "id": "052a5553-971f-406f-9c3b-ee0d7016cf71",
   "metadata": {},
   "source": [
    "<h2 style=\"color:limegreen\">Exampls of Classification Task: -</h2>\n",
    "\n",
    "- Predicting tumor cells as benign or malignant\n",
    "- Classifying credit card transactions as legitimate or fraudulent\n",
    "- Categorizing news stories as finance, weather, entertainment, sports, etc"
   ]
  },
  {
   "cell_type": "markdown",
   "id": "51d32d18-dfd4-4b25-be04-10f2fc43c47d",
   "metadata": {},
   "source": [
    "<h2 style=\"color:limegreen\">Classification Techniques -</h2>\n",
    "\n",
    "- Decision tree based methods\n",
    "- Neural network\n",
    "- Naive Bayes\n",
    "- Support Vector Machines\n",
    "- K-Nearest Neighbors\n",
    "- and much more\n"
   ]
  }
 ],
 "metadata": {
  "kernelspec": {
   "display_name": "Python 3 (ipykernel)",
   "language": "python",
   "name": "python3"
  },
  "language_info": {
   "codemirror_mode": {
    "name": "ipython",
    "version": 3
   },
   "file_extension": ".py",
   "mimetype": "text/x-python",
   "name": "python",
   "nbconvert_exporter": "python",
   "pygments_lexer": "ipython3",
   "version": "3.12.4"
  }
 },
 "nbformat": 4,
 "nbformat_minor": 5
}
